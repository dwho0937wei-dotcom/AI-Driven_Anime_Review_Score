{
 "cells": [
  {
   "cell_type": "markdown",
   "id": "39a76999",
   "metadata": {},
   "source": [
    "# Research Question\n",
    "\n",
    "Can we accurately predict if the upcoming anime/manga will become popular or not based on its genres, ranking, and other features? What are the factors that can make audiences value or like a particular anime/manga even more?"
   ]
  },
  {
   "cell_type": "markdown",
   "id": "51802d8c",
   "metadata": {},
   "source": [
    "# Dataset Exploration"
   ]
  },
  {
   "cell_type": "markdown",
   "id": "3c3b55fe",
   "metadata": {},
   "source": [
    "To answer this question, let's use the \"animes.csv\" that was downloaded from Kaggle and into the repository.               \n",
    "Before using it though, let's first study it."
   ]
  },
  {
   "cell_type": "code",
   "execution_count": 1,
   "id": "68af1290",
   "metadata": {},
   "outputs": [],
   "source": [
    "import pandas as pd"
   ]
  },
  {
   "cell_type": "code",
   "execution_count": 2,
   "id": "f5bc001d",
   "metadata": {},
   "outputs": [
    {
     "data": {
      "text/html": [
       "<div>\n",
       "<style scoped>\n",
       "    .dataframe tbody tr th:only-of-type {\n",
       "        vertical-align: middle;\n",
       "    }\n",
       "\n",
       "    .dataframe tbody tr th {\n",
       "        vertical-align: top;\n",
       "    }\n",
       "\n",
       "    .dataframe thead th {\n",
       "        text-align: right;\n",
       "    }\n",
       "</style>\n",
       "<table border=\"1\" class=\"dataframe\">\n",
       "  <thead>\n",
       "    <tr style=\"text-align: right;\">\n",
       "      <th></th>\n",
       "      <th>uid</th>\n",
       "      <th>title</th>\n",
       "      <th>synopsis</th>\n",
       "      <th>genre</th>\n",
       "      <th>aired</th>\n",
       "      <th>episodes</th>\n",
       "      <th>members</th>\n",
       "      <th>popularity</th>\n",
       "      <th>ranked</th>\n",
       "      <th>score</th>\n",
       "      <th>img_url</th>\n",
       "      <th>link</th>\n",
       "    </tr>\n",
       "  </thead>\n",
       "  <tbody>\n",
       "    <tr>\n",
       "      <th>0</th>\n",
       "      <td>28891</td>\n",
       "      <td>Haikyuu!! Second Season</td>\n",
       "      <td>Following their participation at the Inter-Hig...</td>\n",
       "      <td>['Comedy', 'Sports', 'Drama', 'School', 'Shoun...</td>\n",
       "      <td>Oct 4, 2015 to Mar 27, 2016</td>\n",
       "      <td>25.0</td>\n",
       "      <td>489888</td>\n",
       "      <td>141</td>\n",
       "      <td>25.0</td>\n",
       "      <td>8.82</td>\n",
       "      <td>https://cdn.myanimelist.net/images/anime/9/766...</td>\n",
       "      <td>https://myanimelist.net/anime/28891/Haikyuu_Se...</td>\n",
       "    </tr>\n",
       "    <tr>\n",
       "      <th>1</th>\n",
       "      <td>23273</td>\n",
       "      <td>Shigatsu wa Kimi no Uso</td>\n",
       "      <td>Music accompanies the path of the human metron...</td>\n",
       "      <td>['Drama', 'Music', 'Romance', 'School', 'Shoun...</td>\n",
       "      <td>Oct 10, 2014 to Mar 20, 2015</td>\n",
       "      <td>22.0</td>\n",
       "      <td>995473</td>\n",
       "      <td>28</td>\n",
       "      <td>24.0</td>\n",
       "      <td>8.83</td>\n",
       "      <td>https://cdn.myanimelist.net/images/anime/3/671...</td>\n",
       "      <td>https://myanimelist.net/anime/23273/Shigatsu_w...</td>\n",
       "    </tr>\n",
       "    <tr>\n",
       "      <th>2</th>\n",
       "      <td>34599</td>\n",
       "      <td>Made in Abyss</td>\n",
       "      <td>The Abyss—a gaping chasm stretching down into ...</td>\n",
       "      <td>['Sci-Fi', 'Adventure', 'Mystery', 'Drama', 'F...</td>\n",
       "      <td>Jul 7, 2017 to Sep 29, 2017</td>\n",
       "      <td>13.0</td>\n",
       "      <td>581663</td>\n",
       "      <td>98</td>\n",
       "      <td>23.0</td>\n",
       "      <td>8.83</td>\n",
       "      <td>https://cdn.myanimelist.net/images/anime/6/867...</td>\n",
       "      <td>https://myanimelist.net/anime/34599/Made_in_Abyss</td>\n",
       "    </tr>\n",
       "    <tr>\n",
       "      <th>3</th>\n",
       "      <td>5114</td>\n",
       "      <td>Fullmetal Alchemist: Brotherhood</td>\n",
       "      <td>\"In order for something to be obtained, someth...</td>\n",
       "      <td>['Action', 'Military', 'Adventure', 'Comedy', ...</td>\n",
       "      <td>Apr 5, 2009 to Jul 4, 2010</td>\n",
       "      <td>64.0</td>\n",
       "      <td>1615084</td>\n",
       "      <td>4</td>\n",
       "      <td>1.0</td>\n",
       "      <td>9.23</td>\n",
       "      <td>https://cdn.myanimelist.net/images/anime/1223/...</td>\n",
       "      <td>https://myanimelist.net/anime/5114/Fullmetal_A...</td>\n",
       "    </tr>\n",
       "    <tr>\n",
       "      <th>4</th>\n",
       "      <td>31758</td>\n",
       "      <td>Kizumonogatari III: Reiketsu-hen</td>\n",
       "      <td>After helping revive the legendary vampire Kis...</td>\n",
       "      <td>['Action', 'Mystery', 'Supernatural', 'Vampire']</td>\n",
       "      <td>Jan 6, 2017</td>\n",
       "      <td>1.0</td>\n",
       "      <td>214621</td>\n",
       "      <td>502</td>\n",
       "      <td>22.0</td>\n",
       "      <td>8.83</td>\n",
       "      <td>https://cdn.myanimelist.net/images/anime/3/815...</td>\n",
       "      <td>https://myanimelist.net/anime/31758/Kizumonoga...</td>\n",
       "    </tr>\n",
       "  </tbody>\n",
       "</table>\n",
       "</div>"
      ],
      "text/plain": [
       "     uid                             title  \\\n",
       "0  28891           Haikyuu!! Second Season   \n",
       "1  23273           Shigatsu wa Kimi no Uso   \n",
       "2  34599                     Made in Abyss   \n",
       "3   5114  Fullmetal Alchemist: Brotherhood   \n",
       "4  31758  Kizumonogatari III: Reiketsu-hen   \n",
       "\n",
       "                                            synopsis  \\\n",
       "0  Following their participation at the Inter-Hig...   \n",
       "1  Music accompanies the path of the human metron...   \n",
       "2  The Abyss—a gaping chasm stretching down into ...   \n",
       "3  \"In order for something to be obtained, someth...   \n",
       "4  After helping revive the legendary vampire Kis...   \n",
       "\n",
       "                                               genre  \\\n",
       "0  ['Comedy', 'Sports', 'Drama', 'School', 'Shoun...   \n",
       "1  ['Drama', 'Music', 'Romance', 'School', 'Shoun...   \n",
       "2  ['Sci-Fi', 'Adventure', 'Mystery', 'Drama', 'F...   \n",
       "3  ['Action', 'Military', 'Adventure', 'Comedy', ...   \n",
       "4   ['Action', 'Mystery', 'Supernatural', 'Vampire']   \n",
       "\n",
       "                          aired  episodes  members  popularity  ranked  score  \\\n",
       "0   Oct 4, 2015 to Mar 27, 2016      25.0   489888         141    25.0   8.82   \n",
       "1  Oct 10, 2014 to Mar 20, 2015      22.0   995473          28    24.0   8.83   \n",
       "2   Jul 7, 2017 to Sep 29, 2017      13.0   581663          98    23.0   8.83   \n",
       "3    Apr 5, 2009 to Jul 4, 2010      64.0  1615084           4     1.0   9.23   \n",
       "4                   Jan 6, 2017       1.0   214621         502    22.0   8.83   \n",
       "\n",
       "                                             img_url  \\\n",
       "0  https://cdn.myanimelist.net/images/anime/9/766...   \n",
       "1  https://cdn.myanimelist.net/images/anime/3/671...   \n",
       "2  https://cdn.myanimelist.net/images/anime/6/867...   \n",
       "3  https://cdn.myanimelist.net/images/anime/1223/...   \n",
       "4  https://cdn.myanimelist.net/images/anime/3/815...   \n",
       "\n",
       "                                                link  \n",
       "0  https://myanimelist.net/anime/28891/Haikyuu_Se...  \n",
       "1  https://myanimelist.net/anime/23273/Shigatsu_w...  \n",
       "2  https://myanimelist.net/anime/34599/Made_in_Abyss  \n",
       "3  https://myanimelist.net/anime/5114/Fullmetal_A...  \n",
       "4  https://myanimelist.net/anime/31758/Kizumonoga...  "
      ]
     },
     "execution_count": 2,
     "metadata": {},
     "output_type": "execute_result"
    }
   ],
   "source": [
    "animes_df = pd.read_csv(\"animes.csv\")\n",
    "animes_df.head()"
   ]
  },
  {
   "cell_type": "code",
   "execution_count": 3,
   "id": "6a23718b",
   "metadata": {},
   "outputs": [
    {
     "name": "stdout",
     "output_type": "stream",
     "text": [
      "<class 'pandas.core.frame.DataFrame'>\n",
      "RangeIndex: 19311 entries, 0 to 19310\n",
      "Data columns (total 12 columns):\n",
      " #   Column      Non-Null Count  Dtype  \n",
      "---  ------      --------------  -----  \n",
      " 0   uid         19311 non-null  int64  \n",
      " 1   title       19311 non-null  object \n",
      " 2   synopsis    18336 non-null  object \n",
      " 3   genre       19311 non-null  object \n",
      " 4   aired       19311 non-null  object \n",
      " 5   episodes    18605 non-null  float64\n",
      " 6   members     19311 non-null  int64  \n",
      " 7   popularity  19311 non-null  int64  \n",
      " 8   ranked      16099 non-null  float64\n",
      " 9   score       18732 non-null  float64\n",
      " 10  img_url     19131 non-null  object \n",
      " 11  link        19311 non-null  object \n",
      "dtypes: float64(3), int64(3), object(6)\n",
      "memory usage: 1.8+ MB\n"
     ]
    }
   ],
   "source": [
    "animes_df.info()"
   ]
  },
  {
   "cell_type": "markdown",
   "id": "c4dd75b9",
   "metadata": {},
   "source": [
    "The \"animes.csv\" shows a list of anime with the following features:\n",
    "1. uid - The ID of the anime/manga\n",
    "2. title - The title of the anime/manga\n",
    "3. synopsis - A brief intro to what the anime/manga is about\n",
    "4. genre - The list of genres the anime/manga is assigned to\n",
    "5. aired - When it started airing and when it ended\n",
    "6. episodes - The number of episodes\n",
    "7. members - The number of users that have that entry in their anime/manga list\n",
    "8. popularity - The overall position of the entry by how many users have that in their anime/manga list\n",
    "9. ranked - The overall position of the entry sorted by how users score the work, from highest to lowest.\n",
    "10. score - The overall rating score on a scale from 1 to 10, from worse to best.\n",
    "11. img_url - Basically the image url of the corresponding anime/manga\n",
    "12. link - The MyAnimeList link of the corresponding anime/manga"
   ]
  },
  {
   "cell_type": "markdown",
   "id": "8ed57d2e",
   "metadata": {},
   "source": [
    "# Dataset Cleaning"
   ]
  },
  {
   "cell_type": "markdown",
   "id": "24d63cf4",
   "metadata": {},
   "source": [
    "On first glance, I believe uid, aired, img_url, and link are unnecessary infos for the training of any model. Thus, I'm going to remove those."
   ]
  },
  {
   "cell_type": "code",
   "execution_count": 4,
   "id": "d89e5e4a",
   "metadata": {},
   "outputs": [
    {
     "data": {
      "text/html": [
       "<div>\n",
       "<style scoped>\n",
       "    .dataframe tbody tr th:only-of-type {\n",
       "        vertical-align: middle;\n",
       "    }\n",
       "\n",
       "    .dataframe tbody tr th {\n",
       "        vertical-align: top;\n",
       "    }\n",
       "\n",
       "    .dataframe thead th {\n",
       "        text-align: right;\n",
       "    }\n",
       "</style>\n",
       "<table border=\"1\" class=\"dataframe\">\n",
       "  <thead>\n",
       "    <tr style=\"text-align: right;\">\n",
       "      <th></th>\n",
       "      <th>title</th>\n",
       "      <th>synopsis</th>\n",
       "      <th>genre</th>\n",
       "      <th>episodes</th>\n",
       "      <th>members</th>\n",
       "      <th>popularity</th>\n",
       "      <th>ranked</th>\n",
       "      <th>score</th>\n",
       "    </tr>\n",
       "  </thead>\n",
       "  <tbody>\n",
       "    <tr>\n",
       "      <th>0</th>\n",
       "      <td>Haikyuu!! Second Season</td>\n",
       "      <td>Following their participation at the Inter-Hig...</td>\n",
       "      <td>['Comedy', 'Sports', 'Drama', 'School', 'Shoun...</td>\n",
       "      <td>25.0</td>\n",
       "      <td>489888</td>\n",
       "      <td>141</td>\n",
       "      <td>25.0</td>\n",
       "      <td>8.82</td>\n",
       "    </tr>\n",
       "    <tr>\n",
       "      <th>1</th>\n",
       "      <td>Shigatsu wa Kimi no Uso</td>\n",
       "      <td>Music accompanies the path of the human metron...</td>\n",
       "      <td>['Drama', 'Music', 'Romance', 'School', 'Shoun...</td>\n",
       "      <td>22.0</td>\n",
       "      <td>995473</td>\n",
       "      <td>28</td>\n",
       "      <td>24.0</td>\n",
       "      <td>8.83</td>\n",
       "    </tr>\n",
       "    <tr>\n",
       "      <th>2</th>\n",
       "      <td>Made in Abyss</td>\n",
       "      <td>The Abyss—a gaping chasm stretching down into ...</td>\n",
       "      <td>['Sci-Fi', 'Adventure', 'Mystery', 'Drama', 'F...</td>\n",
       "      <td>13.0</td>\n",
       "      <td>581663</td>\n",
       "      <td>98</td>\n",
       "      <td>23.0</td>\n",
       "      <td>8.83</td>\n",
       "    </tr>\n",
       "    <tr>\n",
       "      <th>3</th>\n",
       "      <td>Fullmetal Alchemist: Brotherhood</td>\n",
       "      <td>\"In order for something to be obtained, someth...</td>\n",
       "      <td>['Action', 'Military', 'Adventure', 'Comedy', ...</td>\n",
       "      <td>64.0</td>\n",
       "      <td>1615084</td>\n",
       "      <td>4</td>\n",
       "      <td>1.0</td>\n",
       "      <td>9.23</td>\n",
       "    </tr>\n",
       "    <tr>\n",
       "      <th>4</th>\n",
       "      <td>Kizumonogatari III: Reiketsu-hen</td>\n",
       "      <td>After helping revive the legendary vampire Kis...</td>\n",
       "      <td>['Action', 'Mystery', 'Supernatural', 'Vampire']</td>\n",
       "      <td>1.0</td>\n",
       "      <td>214621</td>\n",
       "      <td>502</td>\n",
       "      <td>22.0</td>\n",
       "      <td>8.83</td>\n",
       "    </tr>\n",
       "  </tbody>\n",
       "</table>\n",
       "</div>"
      ],
      "text/plain": [
       "                              title  \\\n",
       "0           Haikyuu!! Second Season   \n",
       "1           Shigatsu wa Kimi no Uso   \n",
       "2                     Made in Abyss   \n",
       "3  Fullmetal Alchemist: Brotherhood   \n",
       "4  Kizumonogatari III: Reiketsu-hen   \n",
       "\n",
       "                                            synopsis  \\\n",
       "0  Following their participation at the Inter-Hig...   \n",
       "1  Music accompanies the path of the human metron...   \n",
       "2  The Abyss—a gaping chasm stretching down into ...   \n",
       "3  \"In order for something to be obtained, someth...   \n",
       "4  After helping revive the legendary vampire Kis...   \n",
       "\n",
       "                                               genre  episodes  members  \\\n",
       "0  ['Comedy', 'Sports', 'Drama', 'School', 'Shoun...      25.0   489888   \n",
       "1  ['Drama', 'Music', 'Romance', 'School', 'Shoun...      22.0   995473   \n",
       "2  ['Sci-Fi', 'Adventure', 'Mystery', 'Drama', 'F...      13.0   581663   \n",
       "3  ['Action', 'Military', 'Adventure', 'Comedy', ...      64.0  1615084   \n",
       "4   ['Action', 'Mystery', 'Supernatural', 'Vampire']       1.0   214621   \n",
       "\n",
       "   popularity  ranked  score  \n",
       "0         141    25.0   8.82  \n",
       "1          28    24.0   8.83  \n",
       "2          98    23.0   8.83  \n",
       "3           4     1.0   9.23  \n",
       "4         502    22.0   8.83  "
      ]
     },
     "execution_count": 4,
     "metadata": {},
     "output_type": "execute_result"
    }
   ],
   "source": [
    "animes_df = animes_df.drop(columns = ['uid', 'aired', 'img_url', 'link'])\n",
    "animes_df.head()"
   ]
  },
  {
   "cell_type": "markdown",
   "id": "8220f947",
   "metadata": {},
   "source": [
    "When looking at the column genre, we would see a list of genres. However, when looking at the element's type, it's not a list but a string as I will show below."
   ]
  },
  {
   "cell_type": "code",
   "execution_count": 5,
   "id": "806d3b34",
   "metadata": {},
   "outputs": [
    {
     "data": {
      "text/plain": [
       "\"['Comedy', 'Sports', 'Drama', 'School', 'Shounen']\""
      ]
     },
     "execution_count": 5,
     "metadata": {},
     "output_type": "execute_result"
    }
   ],
   "source": [
    "animes_df['genre'][0]"
   ]
  },
  {
   "cell_type": "code",
   "execution_count": 6,
   "id": "a1c76f61",
   "metadata": {},
   "outputs": [
    {
     "data": {
      "text/plain": [
       "str"
      ]
     },
     "execution_count": 6,
     "metadata": {},
     "output_type": "execute_result"
    }
   ],
   "source": [
    "type(animes_df['genre'][0])"
   ]
  },
  {
   "cell_type": "markdown",
   "id": "78655e2f",
   "metadata": {},
   "source": [
    "Thus, let's change the element's type in column genre into that of a list using eval()."
   ]
  },
  {
   "cell_type": "code",
   "execution_count": 7,
   "id": "3b164217",
   "metadata": {},
   "outputs": [
    {
     "data": {
      "text/plain": [
       "list"
      ]
     },
     "execution_count": 7,
     "metadata": {},
     "output_type": "execute_result"
    }
   ],
   "source": [
    "animes_df['genre'] = animes_df['genre'].map(eval)\n",
    "type(animes_df['genre'][0])"
   ]
  },
  {
   "cell_type": "markdown",
   "id": "7d6c827f",
   "metadata": {},
   "source": [
    "When exploring the DataFrame, I've noticed two \"Death Note\"."
   ]
  },
  {
   "cell_type": "code",
   "execution_count": 8,
   "id": "f72ccaf2",
   "metadata": {},
   "outputs": [
    {
     "data": {
      "text/html": [
       "<div>\n",
       "<style scoped>\n",
       "    .dataframe tbody tr th:only-of-type {\n",
       "        vertical-align: middle;\n",
       "    }\n",
       "\n",
       "    .dataframe tbody tr th {\n",
       "        vertical-align: top;\n",
       "    }\n",
       "\n",
       "    .dataframe thead th {\n",
       "        text-align: right;\n",
       "    }\n",
       "</style>\n",
       "<table border=\"1\" class=\"dataframe\">\n",
       "  <thead>\n",
       "    <tr style=\"text-align: right;\">\n",
       "      <th></th>\n",
       "      <th>title</th>\n",
       "      <th>synopsis</th>\n",
       "      <th>genre</th>\n",
       "      <th>episodes</th>\n",
       "      <th>members</th>\n",
       "      <th>popularity</th>\n",
       "      <th>ranked</th>\n",
       "      <th>score</th>\n",
       "    </tr>\n",
       "  </thead>\n",
       "  <tbody>\n",
       "    <tr>\n",
       "      <th>740</th>\n",
       "      <td>Death Note</td>\n",
       "      <td>A shinigami, as a god of death, can kill any p...</td>\n",
       "      <td>[Mystery, Police, Psychological, Supernatural,...</td>\n",
       "      <td>37.0</td>\n",
       "      <td>1871043</td>\n",
       "      <td>1</td>\n",
       "      <td>52.0</td>\n",
       "      <td>8.65</td>\n",
       "    </tr>\n",
       "    <tr>\n",
       "      <th>17762</th>\n",
       "      <td>Death Note</td>\n",
       "      <td>A shinigami, as a god of death, can kill any p...</td>\n",
       "      <td>[Mystery, Police, Psychological, Supernatural,...</td>\n",
       "      <td>37.0</td>\n",
       "      <td>1871043</td>\n",
       "      <td>1</td>\n",
       "      <td>52.0</td>\n",
       "      <td>8.65</td>\n",
       "    </tr>\n",
       "  </tbody>\n",
       "</table>\n",
       "</div>"
      ],
      "text/plain": [
       "            title                                           synopsis  \\\n",
       "740    Death Note  A shinigami, as a god of death, can kill any p...   \n",
       "17762  Death Note  A shinigami, as a god of death, can kill any p...   \n",
       "\n",
       "                                                   genre  episodes  members  \\\n",
       "740    [Mystery, Police, Psychological, Supernatural,...      37.0  1871043   \n",
       "17762  [Mystery, Police, Psychological, Supernatural,...      37.0  1871043   \n",
       "\n",
       "       popularity  ranked  score  \n",
       "740             1    52.0   8.65  \n",
       "17762           1    52.0   8.65  "
      ]
     },
     "execution_count": 8,
     "metadata": {},
     "output_type": "execute_result"
    }
   ],
   "source": [
    "animes_df.query('popularity == 1')"
   ]
  },
  {
   "cell_type": "markdown",
   "id": "cd33c627",
   "metadata": {},
   "source": [
    "This shows that there are duplicate animes/mangas which would provide bias towards any model training and reduce the model's robustness to generalize data.                                                                                     \n",
    "The following code below confirms it."
   ]
  },
  {
   "cell_type": "code",
   "execution_count": 9,
   "id": "18ce7fcc",
   "metadata": {},
   "outputs": [
    {
     "data": {
      "text/plain": [
       "True"
      ]
     },
     "execution_count": 9,
     "metadata": {},
     "output_type": "execute_result"
    }
   ],
   "source": [
    "duplicate_df = animes_df.copy()\n",
    "duplicate_df['genre'] = duplicate_df['genre'].apply(tuple)\n",
    "duplicate_df.duplicated().any()"
   ]
  },
  {
   "cell_type": "markdown",
   "id": "71c712a8",
   "metadata": {},
   "source": [
    "Thus, let's remove the duplicates."
   ]
  },
  {
   "cell_type": "code",
   "execution_count": 10,
   "id": "156053f2",
   "metadata": {},
   "outputs": [
    {
     "data": {
      "text/plain": [
       "19311"
      ]
     },
     "execution_count": 10,
     "metadata": {},
     "output_type": "execute_result"
    }
   ],
   "source": [
    "len(animes_df)"
   ]
  },
  {
   "cell_type": "markdown",
   "id": "5da43ab8",
   "metadata": {},
   "source": [
    "It seems that having a column with lists as elements hinders some pandas codes like drop_duplicates().                                            \n",
    "Thus, we shall change column genre's elements from list to tuple."
   ]
  },
  {
   "cell_type": "code",
   "execution_count": 11,
   "id": "9e60b21c",
   "metadata": {},
   "outputs": [
    {
     "data": {
      "text/plain": [
       "16368"
      ]
     },
     "execution_count": 11,
     "metadata": {},
     "output_type": "execute_result"
    }
   ],
   "source": [
    "animes_df['genre'] = animes_df['genre'].apply(tuple)\n",
    "animes_df = animes_df.drop_duplicates()\n",
    "len(animes_df)"
   ]
  },
  {
   "cell_type": "markdown",
   "id": "24c77047",
   "metadata": {},
   "source": [
    "After dropping some duplicates, some indices will be deleted.                                                              \n",
    "Let's reset for new indices and drop the old ones."
   ]
  },
  {
   "cell_type": "code",
   "execution_count": 12,
   "id": "6d085129",
   "metadata": {},
   "outputs": [],
   "source": [
    "animes_df = animes_df.reset_index().drop(columns = 'index')"
   ]
  },
  {
   "cell_type": "markdown",
   "id": "f664c460",
   "metadata": {},
   "source": [
    "------------------------------"
   ]
  },
  {
   "cell_type": "markdown",
   "id": "1aca7ff4",
   "metadata": {},
   "source": [
    "Notice that the popularity rank is based on the number of members in the corresponding anime.                              \n",
    "Thus, let the column \"members\" be the targeted variable that we shall predict."
   ]
  },
  {
   "cell_type": "markdown",
   "id": "1068fbd1",
   "metadata": {},
   "source": [
    "Let's now explore the available features that we may use to predict the number of members."
   ]
  },
  {
   "cell_type": "markdown",
   "id": "f1c3e8e9",
   "metadata": {},
   "source": [
    "# Synopsis (Natural Language Processing)"
   ]
  },
  {
   "cell_type": "markdown",
   "id": "ee21832b",
   "metadata": {},
   "source": [
    "We can have the synopsis as the corpus so let's use it to train the NLP model to try to predict the number of members."
   ]
  },
  {
   "cell_type": "markdown",
   "id": "69acdfcd",
   "metadata": {},
   "source": [
    "## Exploring\n",
    "To refamiliarize myself on NLP, I'll first play around with NLP."
   ]
  },
  {
   "cell_type": "code",
   "execution_count": 13,
   "id": "ad4ae43b",
   "metadata": {},
   "outputs": [],
   "source": [
    "import nltk\n",
    "import pandas as pd\n",
    "from nltk import word_tokenize, sent_tokenize"
   ]
  },
  {
   "cell_type": "code",
   "execution_count": 14,
   "id": "ea26b487",
   "metadata": {},
   "outputs": [
    {
     "name": "stdout",
     "output_type": "stream",
     "text": [
      "['Following', 'their', 'participation', 'at', 'the']\n"
     ]
    }
   ],
   "source": [
    "# Word Tokenize\n",
    "corpus = animes_df['synopsis'][0]\n",
    "words = word_tokenize(corpus)\n",
    "print(words[:5])"
   ]
  },
  {
   "cell_type": "code",
   "execution_count": 15,
   "id": "4e2c5de2",
   "metadata": {},
   "outputs": [
    {
     "data": {
      "text/plain": [
       "['Following their participation at the Inter-High, the Karasuno High School volleyball team attempts to refocus their efforts, aiming to conquer the Spring tournament instead.',\n",
       " 'When they receive an invitation from long-standing rival Nekoma High, Karasuno agrees to take part in a large training camp alongside many notable volleyball teams in Tokyo and even some national level players.']"
      ]
     },
     "execution_count": 15,
     "metadata": {},
     "output_type": "execute_result"
    }
   ],
   "source": [
    "# Sentence Tokenize\n",
    "sentences = sent_tokenize(corpus)\n",
    "sentences[:2]"
   ]
  },
  {
   "cell_type": "code",
   "execution_count": 16,
   "id": "3541a187",
   "metadata": {},
   "outputs": [
    {
     "name": "stdout",
     "output_type": "stream",
     "text": [
      "{'MAL', 'refocus', 'large', 'agrees', 'efforts', 'than', 'Following', 'their', 'camp', 'Japan', 'some', 'Kageyama', 'archrival', 'new', 'not', 'Facing', 'must', 'volleyball', 'invitation', 'level', 'chance', 'of', 'also', 'blocks', 'last', 'playing', 'toughest', 'at', 'even', 'receive', 'Nekoma', 'but', 'alongside', 'could', 'Tooru', 'harder', 'up', 'Inter-High', 'victory', 'them', 'more', 'Rewrite', 'and', 'Tokyo', 'conquer', 'with', 'Oikawa', 'break', 'Karasuno', 'rival', 'what', 'Aoba', '.', 'sharpen', 'that', 'its', 'participation', 'be', 'train', 'in', 'When', 'skills', 'a', 'Jousai', 'strengthen', 'By', 'to', 'School', 'attempts', 'differences', 'Spring', 'may', 'take', 'team', 'part', 'would', 'they', 'senior', 'come', 'possibly', '[', 'many', 'High', 'overcome', ',', \"'s\", 'Hinata', 'devise', 'an', 'before', 'formidable', 'notable', 'the', 'learn', 'training', 'national', 'weapon', 'from', 'graduate', 'powerful', 'settle', 'Written', 'instead', 'one', 'members', 'attacks', 'hope', ']', 'sturdiest', 'world-class', 'opponents', 'players', 'only', 'Moreover', 'teams', 'new—including', 'by', 'ever', 'aiming', 'setter', 'long-standing', 'attempt', 'if', 'tournament', 'old'}\n"
     ]
    }
   ],
   "source": [
    "# Unique Words\n",
    "unique_words = set(words)\n",
    "print(unique_words)"
   ]
  },
  {
   "cell_type": "code",
   "execution_count": 17,
   "id": "f3125171",
   "metadata": {},
   "outputs": [
    {
     "data": {
      "text/plain": [
       "177"
      ]
     },
     "execution_count": 17,
     "metadata": {},
     "output_type": "execute_result"
    }
   ],
   "source": [
    "# Number of Words\n",
    "len(words)"
   ]
  },
  {
   "cell_type": "code",
   "execution_count": 18,
   "id": "033fd342",
   "metadata": {},
   "outputs": [
    {
     "name": "stdout",
     "output_type": "stream",
     "text": [
      "0.7062146892655368\n",
      "125\n",
      "177\n"
     ]
    }
   ],
   "source": [
    "# Word Diversity\n",
    "lexical_diversity = len(unique_words) / len(words)\n",
    "print(lexical_diversity)\n",
    "print(len(unique_words))\n",
    "print(len(words))"
   ]
  },
  {
   "cell_type": "code",
   "execution_count": 19,
   "id": "74a6791b",
   "metadata": {},
   "outputs": [
    {
     "data": {
      "text/html": [
       "<div>\n",
       "<style scoped>\n",
       "    .dataframe tbody tr th:only-of-type {\n",
       "        vertical-align: middle;\n",
       "    }\n",
       "\n",
       "    .dataframe tbody tr th {\n",
       "        vertical-align: top;\n",
       "    }\n",
       "\n",
       "    .dataframe thead th {\n",
       "        text-align: right;\n",
       "    }\n",
       "</style>\n",
       "<table border=\"1\" class=\"dataframe\">\n",
       "  <thead>\n",
       "    <tr style=\"text-align: right;\">\n",
       "      <th></th>\n",
       "      <th>synopsis</th>\n",
       "      <th>members</th>\n",
       "    </tr>\n",
       "  </thead>\n",
       "  <tbody>\n",
       "    <tr>\n",
       "      <th>0</th>\n",
       "      <td>Following their participation at the Inter-Hig...</td>\n",
       "      <td>489888</td>\n",
       "    </tr>\n",
       "    <tr>\n",
       "      <th>1</th>\n",
       "      <td>Music accompanies the path of the human metron...</td>\n",
       "      <td>995473</td>\n",
       "    </tr>\n",
       "    <tr>\n",
       "      <th>2</th>\n",
       "      <td>The Abyss—a gaping chasm stretching down into ...</td>\n",
       "      <td>581663</td>\n",
       "    </tr>\n",
       "    <tr>\n",
       "      <th>3</th>\n",
       "      <td>\"In order for something to be obtained, someth...</td>\n",
       "      <td>1615084</td>\n",
       "    </tr>\n",
       "    <tr>\n",
       "      <th>4</th>\n",
       "      <td>After helping revive the legendary vampire Kis...</td>\n",
       "      <td>214621</td>\n",
       "    </tr>\n",
       "  </tbody>\n",
       "</table>\n",
       "</div>"
      ],
      "text/plain": [
       "                                            synopsis  members\n",
       "0  Following their participation at the Inter-Hig...   489888\n",
       "1  Music accompanies the path of the human metron...   995473\n",
       "2  The Abyss—a gaping chasm stretching down into ...   581663\n",
       "3  \"In order for something to be obtained, someth...  1615084\n",
       "4  After helping revive the legendary vampire Kis...   214621"
      ]
     },
     "execution_count": 19,
     "metadata": {},
     "output_type": "execute_result"
    }
   ],
   "source": [
    "nlp_df = animes_df[['synopsis', 'members']]\n",
    "nlp_df.head()"
   ]
  },
  {
   "cell_type": "code",
   "execution_count": 20,
   "id": "eb89af0e",
   "metadata": {},
   "outputs": [],
   "source": [
    "# Determine the number of unique words in the nlp_df\n",
    "# ans1 = len(set(nlp_df['synopsis'].apply(word_tokenize).sum()))"
   ]
  },
  {
   "cell_type": "code",
   "execution_count": 21,
   "id": "570d743c",
   "metadata": {},
   "outputs": [
    {
     "data": {
      "text/plain": [
       "{float, str}"
      ]
     },
     "execution_count": 21,
     "metadata": {},
     "output_type": "execute_result"
    }
   ],
   "source": [
    "# Will receive a TypeError expecting a string or bytes-like object\n",
    "# This means that not all synopsis are type string or bytes-like object\n",
    "# Checking all unique types of all elements in column synopsis\n",
    "set([type(nlp_df['synopsis'][i]) for i in range(0, len(nlp_df))])"
   ]
  },
  {
   "cell_type": "code",
   "execution_count": 22,
   "id": "87665620",
   "metadata": {},
   "outputs": [
    {
     "data": {
      "text/html": [
       "<div>\n",
       "<style scoped>\n",
       "    .dataframe tbody tr th:only-of-type {\n",
       "        vertical-align: middle;\n",
       "    }\n",
       "\n",
       "    .dataframe tbody tr th {\n",
       "        vertical-align: top;\n",
       "    }\n",
       "\n",
       "    .dataframe thead th {\n",
       "        text-align: right;\n",
       "    }\n",
       "</style>\n",
       "<table border=\"1\" class=\"dataframe\">\n",
       "  <thead>\n",
       "    <tr style=\"text-align: right;\">\n",
       "      <th></th>\n",
       "      <th>synopsis</th>\n",
       "      <th>members</th>\n",
       "    </tr>\n",
       "  </thead>\n",
       "  <tbody>\n",
       "    <tr>\n",
       "      <th>29</th>\n",
       "      <td>NaN</td>\n",
       "      <td>11600</td>\n",
       "    </tr>\n",
       "    <tr>\n",
       "      <th>31</th>\n",
       "      <td>NaN</td>\n",
       "      <td>20779</td>\n",
       "    </tr>\n",
       "    <tr>\n",
       "      <th>42</th>\n",
       "      <td>NaN</td>\n",
       "      <td>5238</td>\n",
       "    </tr>\n",
       "    <tr>\n",
       "      <th>212</th>\n",
       "      <td>NaN</td>\n",
       "      <td>8711</td>\n",
       "    </tr>\n",
       "    <tr>\n",
       "      <th>216</th>\n",
       "      <td>NaN</td>\n",
       "      <td>75929</td>\n",
       "    </tr>\n",
       "    <tr>\n",
       "      <th>...</th>\n",
       "      <td>...</td>\n",
       "      <td>...</td>\n",
       "    </tr>\n",
       "    <tr>\n",
       "      <th>16101</th>\n",
       "      <td>NaN</td>\n",
       "      <td>4598</td>\n",
       "    </tr>\n",
       "    <tr>\n",
       "      <th>16130</th>\n",
       "      <td>NaN</td>\n",
       "      <td>7229</td>\n",
       "    </tr>\n",
       "    <tr>\n",
       "      <th>16161</th>\n",
       "      <td>NaN</td>\n",
       "      <td>1339</td>\n",
       "    </tr>\n",
       "    <tr>\n",
       "      <th>16319</th>\n",
       "      <td>NaN</td>\n",
       "      <td>1246</td>\n",
       "    </tr>\n",
       "    <tr>\n",
       "      <th>16331</th>\n",
       "      <td>NaN</td>\n",
       "      <td>592</td>\n",
       "    </tr>\n",
       "  </tbody>\n",
       "</table>\n",
       "<p>785 rows × 2 columns</p>\n",
       "</div>"
      ],
      "text/plain": [
       "      synopsis  members\n",
       "29         NaN    11600\n",
       "31         NaN    20779\n",
       "42         NaN     5238\n",
       "212        NaN     8711\n",
       "216        NaN    75929\n",
       "...        ...      ...\n",
       "16101      NaN     4598\n",
       "16130      NaN     7229\n",
       "16161      NaN     1339\n",
       "16319      NaN     1246\n",
       "16331      NaN      592\n",
       "\n",
       "[785 rows x 2 columns]"
      ]
     },
     "execution_count": 22,
     "metadata": {},
     "output_type": "execute_result"
    }
   ],
   "source": [
    "# Some elements are float.\n",
    "# Let's see what the 'float' elements look like.\n",
    "float_synopsis = nlp_df[nlp_df['synopsis'].apply(lambda x: isinstance(x, float))]\n",
    "float_synopsis"
   ]
  },
  {
   "cell_type": "code",
   "execution_count": 23,
   "id": "3d393a9f",
   "metadata": {},
   "outputs": [
    {
     "name": "stdout",
     "output_type": "stream",
     "text": [
      "16368\n"
     ]
    }
   ],
   "source": [
    "print(len(nlp_df))"
   ]
  },
  {
   "cell_type": "code",
   "execution_count": 24,
   "id": "46f2bbf4",
   "metadata": {},
   "outputs": [
    {
     "name": "stdout",
     "output_type": "stream",
     "text": [
      "15583\n"
     ]
    }
   ],
   "source": [
    "# Yikes!!! Some synopsis are null. Let's drop them.\n",
    "nlp_df = nlp_df.dropna(subset = 'synopsis')\n",
    "print(len(nlp_df))"
   ]
  },
  {
   "cell_type": "code",
   "execution_count": 25,
   "id": "67e6e878",
   "metadata": {},
   "outputs": [],
   "source": [
    "# Let's reset the indices yet again.\n",
    "nlp_df = nlp_df.reset_index().drop(columns = 'index')"
   ]
  },
  {
   "cell_type": "code",
   "execution_count": 26,
   "id": "ff1d7d7c",
   "metadata": {},
   "outputs": [
    {
     "data": {
      "text/plain": [
       "57791"
      ]
     },
     "execution_count": 26,
     "metadata": {},
     "output_type": "execute_result"
    }
   ],
   "source": [
    "# Let's again determine the number of unique words in the modified nlp_df\n",
    "ans1 = len(set(nlp_df['synopsis'].apply(word_tokenize).sum()))\n",
    "ans1"
   ]
  },
  {
   "cell_type": "code",
   "execution_count": 27,
   "id": "c341aa66",
   "metadata": {},
   "outputs": [
    {
     "name": "stdout",
     "output_type": "stream",
     "text": [
      "[('Following', 'VBG'), ('their', 'PRP$'), ('participation', 'NN'), ('at', 'IN'), ('the', 'DT')]\n"
     ]
    }
   ],
   "source": [
    "# Let's now create speech tags from the first synopsis\n",
    "words_pos = nltk.pos_tag(words)\n",
    "print(words_pos[:5])"
   ]
  },
  {
   "cell_type": "code",
   "execution_count": 28,
   "id": "514900ba",
   "metadata": {},
   "outputs": [
    {
     "name": "stdout",
     "output_type": "stream",
     "text": [
      "[('Karasuno High School', 'ORGANIZATION'), ('Nekoma High', 'ORGANIZATION'), ('Karasuno', 'PERSON'), ('Tokyo', 'GPE'), ('Japan', 'GPE')]\n"
     ]
    }
   ],
   "source": [
    "# Find words with named entity label\n",
    "named_entities = []\n",
    "\n",
    "# Iterate through the result of the ne_chunk function on the part-of-speech tagged words\n",
    "for word in nltk.ne_chunk(words_pos):\n",
    "    # Check if the current word has a 'label' attribute\n",
    "    if hasattr(word,'label'):\n",
    "        # If it does, extract the name by joining the leaves (individual words) of the named entity\n",
    "        the_name = ' '.join(name[0] for name in word.leaves())\n",
    "        # Get the type (label) of the named entity\n",
    "        the_type = word.label()\n",
    "        # Append a tuple containing the name and type to the named_entities list\n",
    "        named_entities.append((the_name, the_type))\n",
    "\n",
    "# Print the first 5 named entities and their types\n",
    "print(named_entities[:5])"
   ]
  },
  {
   "cell_type": "code",
   "execution_count": 29,
   "id": "01478fb9",
   "metadata": {},
   "outputs": [
    {
     "name": "stdout",
     "output_type": "stream",
     "text": [
      "['tokyo', 'japan', 'kageyama', 'karasuno']\n"
     ]
    }
   ],
   "source": [
    "# Include only GPE words, i.e. GeoPolitical Entities.\n",
    "places = []\n",
    "\n",
    "for word in named_entities:\n",
    "    if word[1] == 'GPE':\n",
    "        places.append(word[0].lower())\n",
    "        \n",
    "print(places)"
   ]
  },
  {
   "cell_type": "code",
   "execution_count": 30,
   "id": "48990d78",
   "metadata": {},
   "outputs": [
    {
     "name": "stdout",
     "output_type": "stream",
     "text": [
      "['tokyo', 'japan', 'kageyama', 'karasuno']\n"
     ]
    }
   ],
   "source": [
    "# Removing stopwords\n",
    "from nltk.corpus import stopwords\n",
    "\n",
    "swords = stopwords.words('english')\n",
    "no_stops = [word for word in places if not word in swords]\n",
    "print(no_stops)"
   ]
  },
  {
   "cell_type": "markdown",
   "id": "ca42e75d",
   "metadata": {},
   "source": [
    "## Preprocessing Text (Stemming & Lemmatizing)"
   ]
  },
  {
   "cell_type": "code",
   "execution_count": 31,
   "id": "1980d493",
   "metadata": {},
   "outputs": [],
   "source": [
    "# Let's use stemmer to apply onto the synopsis of the nlp_df\n",
    "from nltk.stem import PorterStemmer, WordNetLemmatizer\n",
    "\n",
    "def stemmer(text):\n",
    "    stem_words = [PorterStemmer().stem(word) for word in word_tokenize(text)]\n",
    "    return ' '.join(stem_words)"
   ]
  },
  {
   "cell_type": "code",
   "execution_count": 32,
   "id": "61edeeeb",
   "metadata": {},
   "outputs": [
    {
     "data": {
      "text/plain": [
       "0    follow their particip at the inter-high , the ...\n",
       "1    music accompani the path of the human metronom...\n",
       "2    the abyss—a gape chasm stretch down into the d...\n",
       "3    `` in order for someth to be obtain , someth o...\n",
       "4    after help reviv the legendari vampir kiss-sho...\n",
       "Name: synopsis, dtype: object"
      ]
     },
     "execution_count": 32,
     "metadata": {},
     "output_type": "execute_result"
    }
   ],
   "source": [
    "stemmed_content = nlp_df['synopsis'].apply(stemmer)\n",
    "stemmed_content.head()"
   ]
  },
  {
   "cell_type": "code",
   "execution_count": 33,
   "id": "48b5b078",
   "metadata": {},
   "outputs": [],
   "source": [
    "# Let's use lemmatizer instead\n",
    "def lemmatizer(text):\n",
    "    lem_words = [WordNetLemmatizer().lemmatize(word) for word in word_tokenize(text)]\n",
    "    return ' '.join(lem_words)"
   ]
  },
  {
   "cell_type": "code",
   "execution_count": 34,
   "id": "bae64900",
   "metadata": {},
   "outputs": [
    {
     "data": {
      "text/plain": [
       "0    Following their participation at the Inter-Hig...\n",
       "1    Music accompanies the path of the human metron...\n",
       "2    The Abyss—a gaping chasm stretching down into ...\n",
       "3    `` In order for something to be obtained , som...\n",
       "4    After helping revive the legendary vampire Kis...\n",
       "Name: synopsis, dtype: object"
      ]
     },
     "execution_count": 34,
     "metadata": {},
     "output_type": "execute_result"
    }
   ],
   "source": [
    "lemmatized_content = nlp_df['synopsis'].apply(lemmatizer)\n",
    "lemmatized_content.head()"
   ]
  },
  {
   "cell_type": "code",
   "execution_count": 35,
   "id": "dd0a427d",
   "metadata": {},
   "outputs": [
    {
     "data": {
      "text/html": [
       "<div>\n",
       "<style scoped>\n",
       "    .dataframe tbody tr th:only-of-type {\n",
       "        vertical-align: middle;\n",
       "    }\n",
       "\n",
       "    .dataframe tbody tr th {\n",
       "        vertical-align: top;\n",
       "    }\n",
       "\n",
       "    .dataframe thead th {\n",
       "        text-align: right;\n",
       "    }\n",
       "</style>\n",
       "<table border=\"1\" class=\"dataframe\">\n",
       "  <thead>\n",
       "    <tr style=\"text-align: right;\">\n",
       "      <th></th>\n",
       "      <th>synopsis</th>\n",
       "      <th>members</th>\n",
       "    </tr>\n",
       "  </thead>\n",
       "  <tbody>\n",
       "    <tr>\n",
       "      <th>0</th>\n",
       "      <td>follow their particip at the inter-high , the ...</td>\n",
       "      <td>489888</td>\n",
       "    </tr>\n",
       "    <tr>\n",
       "      <th>1</th>\n",
       "      <td>music accompani the path of the human metronom...</td>\n",
       "      <td>995473</td>\n",
       "    </tr>\n",
       "    <tr>\n",
       "      <th>2</th>\n",
       "      <td>the abyss—a gape chasm stretch down into the d...</td>\n",
       "      <td>581663</td>\n",
       "    </tr>\n",
       "    <tr>\n",
       "      <th>3</th>\n",
       "      <td>`` in order for someth to be obtain , someth o...</td>\n",
       "      <td>1615084</td>\n",
       "    </tr>\n",
       "    <tr>\n",
       "      <th>4</th>\n",
       "      <td>after help reviv the legendari vampir kiss-sho...</td>\n",
       "      <td>214621</td>\n",
       "    </tr>\n",
       "  </tbody>\n",
       "</table>\n",
       "</div>"
      ],
      "text/plain": [
       "                                            synopsis  members\n",
       "0  follow their particip at the inter-high , the ...   489888\n",
       "1  music accompani the path of the human metronom...   995473\n",
       "2  the abyss—a gape chasm stretch down into the d...   581663\n",
       "3  `` in order for someth to be obtain , someth o...  1615084\n",
       "4  after help reviv the legendari vampir kiss-sho...   214621"
      ]
     },
     "execution_count": 35,
     "metadata": {},
     "output_type": "execute_result"
    }
   ],
   "source": [
    "stem_nlp_df = nlp_df.copy()\n",
    "stem_nlp_df['synopsis'] = stemmed_content\n",
    "stem_nlp_df.head()"
   ]
  },
  {
   "cell_type": "code",
   "execution_count": 36,
   "id": "43d9e1f8",
   "metadata": {},
   "outputs": [
    {
     "data": {
      "text/html": [
       "<div>\n",
       "<style scoped>\n",
       "    .dataframe tbody tr th:only-of-type {\n",
       "        vertical-align: middle;\n",
       "    }\n",
       "\n",
       "    .dataframe tbody tr th {\n",
       "        vertical-align: top;\n",
       "    }\n",
       "\n",
       "    .dataframe thead th {\n",
       "        text-align: right;\n",
       "    }\n",
       "</style>\n",
       "<table border=\"1\" class=\"dataframe\">\n",
       "  <thead>\n",
       "    <tr style=\"text-align: right;\">\n",
       "      <th></th>\n",
       "      <th>synopsis</th>\n",
       "      <th>members</th>\n",
       "    </tr>\n",
       "  </thead>\n",
       "  <tbody>\n",
       "    <tr>\n",
       "      <th>0</th>\n",
       "      <td>Following their participation at the Inter-Hig...</td>\n",
       "      <td>489888</td>\n",
       "    </tr>\n",
       "    <tr>\n",
       "      <th>1</th>\n",
       "      <td>Music accompanies the path of the human metron...</td>\n",
       "      <td>995473</td>\n",
       "    </tr>\n",
       "    <tr>\n",
       "      <th>2</th>\n",
       "      <td>The Abyss—a gaping chasm stretching down into ...</td>\n",
       "      <td>581663</td>\n",
       "    </tr>\n",
       "    <tr>\n",
       "      <th>3</th>\n",
       "      <td>`` In order for something to be obtained , som...</td>\n",
       "      <td>1615084</td>\n",
       "    </tr>\n",
       "    <tr>\n",
       "      <th>4</th>\n",
       "      <td>After helping revive the legendary vampire Kis...</td>\n",
       "      <td>214621</td>\n",
       "    </tr>\n",
       "  </tbody>\n",
       "</table>\n",
       "</div>"
      ],
      "text/plain": [
       "                                            synopsis  members\n",
       "0  Following their participation at the Inter-Hig...   489888\n",
       "1  Music accompanies the path of the human metron...   995473\n",
       "2  The Abyss—a gaping chasm stretching down into ...   581663\n",
       "3  `` In order for something to be obtained , som...  1615084\n",
       "4  After helping revive the legendary vampire Kis...   214621"
      ]
     },
     "execution_count": 36,
     "metadata": {},
     "output_type": "execute_result"
    }
   ],
   "source": [
    "lem_nlp_df = nlp_df.copy()\n",
    "lem_nlp_df['synopsis'] = lemmatized_content\n",
    "lem_nlp_df.head()"
   ]
  },
  {
   "cell_type": "markdown",
   "id": "19302842",
   "metadata": {},
   "source": [
    "## Feature Extraction & Training/Testing Model with or without Stop_Words"
   ]
  },
  {
   "cell_type": "code",
   "execution_count": 37,
   "id": "15cd8f91",
   "metadata": {},
   "outputs": [],
   "source": [
    "# Let's now focus on feature extraction\n",
    "from sklearn.ensemble import RandomForestRegressor\n",
    "from sklearn.feature_extraction.text import CountVectorizer, TfidfVectorizer\n",
    "from sklearn.pipeline import Pipeline\n",
    "from sklearn.model_selection import train_test_split\n",
    "from sklearn.metrics import mean_squared_error"
   ]
  },
  {
   "cell_type": "code",
   "execution_count": 38,
   "id": "6d2bda3f",
   "metadata": {},
   "outputs": [],
   "source": [
    "# Randomly choose 1500 stemmed synopses for training/testing\n",
    "stem_sample_df = stem_nlp_df.sample(n = 1500, random_state = 42)\n",
    "X_stem = stem_sample_df.drop('members', axis = 1)\n",
    "y_stem = stem_sample_df['members']"
   ]
  },
  {
   "cell_type": "code",
   "execution_count": 39,
   "id": "5aa5d239",
   "metadata": {},
   "outputs": [],
   "source": [
    "X_stem_train, X_stem_test, y_stem_train, y_stem_test = train_test_split(X_stem['synopsis'], y_stem, random_state = 42)"
   ]
  },
  {
   "cell_type": "code",
   "execution_count": 40,
   "id": "f6b2edbd",
   "metadata": {},
   "outputs": [
    {
     "data": {
      "text/plain": [
       "1090     episod 0 of madan no ou to vanadi : tigre-kun ...\n",
       "1655     it is rumor that a mysteri dvd exist and whoev...\n",
       "12292    the stori revolv around the daili misadventur ...\n",
       "10269    the first episod is a summari of sm , sm r and...\n",
       "11917    the stori about a real life 3 year old boy nam...\n",
       "Name: synopsis, dtype: object"
      ]
     },
     "execution_count": 40,
     "metadata": {},
     "output_type": "execute_result"
    }
   ],
   "source": [
    "X_stem_train.head()"
   ]
  },
  {
   "cell_type": "code",
   "execution_count": 41,
   "id": "3410ad19",
   "metadata": {},
   "outputs": [],
   "source": [
    "# Randomly choose 1500 lemmatized synopses for training/testing\n",
    "lem_sample_df = lem_nlp_df.sample(n = 1500, random_state = 42)\n",
    "X_lem = lem_sample_df.drop('members', axis = 1)\n",
    "y_lem = lem_sample_df['members']"
   ]
  },
  {
   "cell_type": "code",
   "execution_count": 42,
   "id": "b52566cc",
   "metadata": {},
   "outputs": [],
   "source": [
    "X_lem_train, X_lem_test, y_lem_train, y_lem_test = train_test_split(X_lem['synopsis'], y_lem, random_state = 42)"
   ]
  },
  {
   "cell_type": "code",
   "execution_count": 43,
   "id": "b785a811",
   "metadata": {},
   "outputs": [
    {
     "data": {
      "text/plain": [
       "1090     Episode 0 of Madan no Ou to Vanadis : Tigre-ku...\n",
       "1655     It is rumored that a mysterious DVD exists and...\n",
       "12292    The story revolves around the daily misadventu...\n",
       "10269    The first episode is a summary of SM , SM R an...\n",
       "11917    The story about a real life 3 year old boy nam...\n",
       "Name: synopsis, dtype: object"
      ]
     },
     "execution_count": 43,
     "metadata": {},
     "output_type": "execute_result"
    }
   ],
   "source": [
    "X_lem_train.head()"
   ]
  },
  {
   "cell_type": "markdown",
   "id": "a29a6de6",
   "metadata": {},
   "source": [
    "Between stemming and lemmatizing, I am going to choose lemmatizing out of the intuition that having comprehensible words may be important for training/testing."
   ]
  },
  {
   "cell_type": "code",
   "execution_count": 44,
   "id": "99b38203",
   "metadata": {},
   "outputs": [
    {
     "data": {
      "text/html": [
       "<div>\n",
       "<style scoped>\n",
       "    .dataframe tbody tr th:only-of-type {\n",
       "        vertical-align: middle;\n",
       "    }\n",
       "\n",
       "    .dataframe tbody tr th {\n",
       "        vertical-align: top;\n",
       "    }\n",
       "\n",
       "    .dataframe thead th {\n",
       "        text-align: right;\n",
       "    }\n",
       "</style>\n",
       "<table border=\"1\" class=\"dataframe\">\n",
       "  <thead>\n",
       "    <tr style=\"text-align: right;\">\n",
       "      <th></th>\n",
       "      <th>000</th>\n",
       "      <th>001</th>\n",
       "      <th>003</th>\n",
       "      <th>007</th>\n",
       "      <th>0081</th>\n",
       "      <th>009</th>\n",
       "      <th>0096</th>\n",
       "      <th>0097</th>\n",
       "      <th>01</th>\n",
       "      <th>02</th>\n",
       "      <th>...</th>\n",
       "      <th>はじめての城下町デート</th>\n",
       "      <th>ミツヒデ</th>\n",
       "      <th>ラジ王子幼少のみぎり</th>\n",
       "      <th>始まりのゼン</th>\n",
       "      <th>木々</th>\n",
       "      <th>水猫</th>\n",
       "      <th>白雪とゼン</th>\n",
       "      <th>赤猫</th>\n",
       "      <th>鎮座dopeness</th>\n",
       "      <th>青青草原</th>\n",
       "    </tr>\n",
       "  </thead>\n",
       "  <tbody>\n",
       "    <tr>\n",
       "      <th>0</th>\n",
       "      <td>0</td>\n",
       "      <td>0</td>\n",
       "      <td>0</td>\n",
       "      <td>0</td>\n",
       "      <td>0</td>\n",
       "      <td>0</td>\n",
       "      <td>0</td>\n",
       "      <td>0</td>\n",
       "      <td>0</td>\n",
       "      <td>0</td>\n",
       "      <td>...</td>\n",
       "      <td>0</td>\n",
       "      <td>0</td>\n",
       "      <td>0</td>\n",
       "      <td>0</td>\n",
       "      <td>0</td>\n",
       "      <td>0</td>\n",
       "      <td>0</td>\n",
       "      <td>0</td>\n",
       "      <td>0</td>\n",
       "      <td>0</td>\n",
       "    </tr>\n",
       "    <tr>\n",
       "      <th>1</th>\n",
       "      <td>0</td>\n",
       "      <td>0</td>\n",
       "      <td>0</td>\n",
       "      <td>0</td>\n",
       "      <td>0</td>\n",
       "      <td>0</td>\n",
       "      <td>0</td>\n",
       "      <td>0</td>\n",
       "      <td>0</td>\n",
       "      <td>0</td>\n",
       "      <td>...</td>\n",
       "      <td>0</td>\n",
       "      <td>0</td>\n",
       "      <td>0</td>\n",
       "      <td>0</td>\n",
       "      <td>0</td>\n",
       "      <td>0</td>\n",
       "      <td>0</td>\n",
       "      <td>0</td>\n",
       "      <td>0</td>\n",
       "      <td>0</td>\n",
       "    </tr>\n",
       "    <tr>\n",
       "      <th>2</th>\n",
       "      <td>0</td>\n",
       "      <td>0</td>\n",
       "      <td>0</td>\n",
       "      <td>0</td>\n",
       "      <td>0</td>\n",
       "      <td>0</td>\n",
       "      <td>0</td>\n",
       "      <td>0</td>\n",
       "      <td>0</td>\n",
       "      <td>0</td>\n",
       "      <td>...</td>\n",
       "      <td>0</td>\n",
       "      <td>0</td>\n",
       "      <td>0</td>\n",
       "      <td>0</td>\n",
       "      <td>0</td>\n",
       "      <td>0</td>\n",
       "      <td>0</td>\n",
       "      <td>0</td>\n",
       "      <td>0</td>\n",
       "      <td>0</td>\n",
       "    </tr>\n",
       "    <tr>\n",
       "      <th>3</th>\n",
       "      <td>0</td>\n",
       "      <td>0</td>\n",
       "      <td>0</td>\n",
       "      <td>0</td>\n",
       "      <td>0</td>\n",
       "      <td>0</td>\n",
       "      <td>0</td>\n",
       "      <td>0</td>\n",
       "      <td>0</td>\n",
       "      <td>0</td>\n",
       "      <td>...</td>\n",
       "      <td>0</td>\n",
       "      <td>0</td>\n",
       "      <td>0</td>\n",
       "      <td>0</td>\n",
       "      <td>0</td>\n",
       "      <td>0</td>\n",
       "      <td>0</td>\n",
       "      <td>0</td>\n",
       "      <td>0</td>\n",
       "      <td>0</td>\n",
       "    </tr>\n",
       "    <tr>\n",
       "      <th>4</th>\n",
       "      <td>0</td>\n",
       "      <td>0</td>\n",
       "      <td>0</td>\n",
       "      <td>0</td>\n",
       "      <td>0</td>\n",
       "      <td>0</td>\n",
       "      <td>0</td>\n",
       "      <td>0</td>\n",
       "      <td>0</td>\n",
       "      <td>0</td>\n",
       "      <td>...</td>\n",
       "      <td>0</td>\n",
       "      <td>0</td>\n",
       "      <td>0</td>\n",
       "      <td>0</td>\n",
       "      <td>0</td>\n",
       "      <td>0</td>\n",
       "      <td>0</td>\n",
       "      <td>0</td>\n",
       "      <td>0</td>\n",
       "      <td>0</td>\n",
       "    </tr>\n",
       "  </tbody>\n",
       "</table>\n",
       "<p>5 rows × 10250 columns</p>\n",
       "</div>"
      ],
      "text/plain": [
       "   000  001  003  007  0081  009  0096  0097  01  02  ...  はじめての城下町デート  ミツヒデ  \\\n",
       "0    0    0    0    0     0    0     0     0   0   0  ...            0     0   \n",
       "1    0    0    0    0     0    0     0     0   0   0  ...            0     0   \n",
       "2    0    0    0    0     0    0     0     0   0   0  ...            0     0   \n",
       "3    0    0    0    0     0    0     0     0   0   0  ...            0     0   \n",
       "4    0    0    0    0     0    0     0     0   0   0  ...            0     0   \n",
       "\n",
       "   ラジ王子幼少のみぎり  始まりのゼン  木々  水猫  白雪とゼン  赤猫  鎮座dopeness  青青草原  \n",
       "0           0       0   0   0      0   0           0     0  \n",
       "1           0       0   0   0      0   0           0     0  \n",
       "2           0       0   0   0      0   0           0     0  \n",
       "3           0       0   0   0      0   0           0     0  \n",
       "4           0       0   0   0      0   0           0     0  \n",
       "\n",
       "[5 rows x 10250 columns]"
      ]
     },
     "execution_count": 44,
     "metadata": {},
     "output_type": "execute_result"
    }
   ],
   "source": [
    "cvect = CountVectorizer()\n",
    "dtm = cvect.fit_transform(X_lem_train)\n",
    "\n",
    "pd.DataFrame(dtm.toarray(), columns = cvect.get_feature_names_out()).head()"
   ]
  },
  {
   "cell_type": "code",
   "execution_count": 45,
   "id": "7c96d172",
   "metadata": {},
   "outputs": [
    {
     "data": {
      "text/plain": [
       "<1125x9974 sparse matrix of type '<class 'numpy.int64'>'\n",
       "\twith 33733 stored elements in Compressed Sparse Row format>"
      ]
     },
     "execution_count": 45,
     "metadata": {},
     "output_type": "execute_result"
    }
   ],
   "source": [
    "# CounterVectorizing while removing stopwords\n",
    "cvect2 = CountVectorizer(stop_words = 'english')\n",
    "X_train_vect_2 = cvect2.fit_transform(X_lem_train)\n",
    "X_test_vect_2 = cvect2.transform(X_lem_test)\n",
    "\n",
    "X_train_vect_2"
   ]
  },
  {
   "cell_type": "code",
   "execution_count": 46,
   "id": "2f535840",
   "metadata": {},
   "outputs": [
    {
     "data": {
      "text/plain": [
       "<1125x300 sparse matrix of type '<class 'numpy.int64'>'\n",
       "\twith 12172 stored elements in Compressed Sparse Row format>"
      ]
     },
     "execution_count": 46,
     "metadata": {},
     "output_type": "execute_result"
    }
   ],
   "source": [
    "# Do the same above but additionally limit the features to the top 300 words\n",
    "cvect3 = CountVectorizer(stop_words = 'english', max_features = 300)\n",
    "X_train_vect_3 = cvect3.fit_transform(X_lem_train)\n",
    "X_test_vect_3 = cvect3.transform(X_lem_test)\n",
    "\n",
    "X_train_vect_3"
   ]
  },
  {
   "cell_type": "markdown",
   "id": "b734e338",
   "metadata": {},
   "source": [
    "Since we are predicting discrete numerical values on the number of members, not classification, then I will choose RandomForestRegressor for this prediction role."
   ]
  },
  {
   "cell_type": "code",
   "execution_count": 47,
   "id": "8f6955c8",
   "metadata": {},
   "outputs": [
    {
     "name": "stdout",
     "output_type": "stream",
     "text": [
      "{'cvect': CountVectorizer(max_features=300), 'forest': RandomForestRegressor(random_state=42)}\n"
     ]
    },
    {
     "data": {
      "text/plain": [
       "0.27910208799657765"
      ]
     },
     "execution_count": 47,
     "metadata": {},
     "output_type": "execute_result"
    }
   ],
   "source": [
    "# Pipeline cvect and RandomForestRegressor forest\n",
    "vect_pipe_1 = Pipeline([\n",
    "    ('cvect', CountVectorizer(max_features = 300)),\n",
    "    ('forest', RandomForestRegressor(random_state = 42))\n",
    "]).fit(X_lem_train, y_lem_train)\n",
    "\n",
    "test_acc = vect_pipe_1.score(X_lem_test, y_lem_test)\n",
    "\n",
    "print(vect_pipe_1.named_steps)\n",
    "test_acc"
   ]
  },
  {
   "cell_type": "code",
   "execution_count": 48,
   "id": "7a2785e0",
   "metadata": {},
   "outputs": [],
   "source": [
    "from sklearn.model_selection import GridSearchCV"
   ]
  },
  {
   "cell_type": "code",
   "execution_count": 49,
   "id": "3aedc519",
   "metadata": {},
   "outputs": [
    {
     "data": {
      "text/plain": [
       "\"\\nparams = {'cvect__max_features': [100, 500, 1000, 2000],\\n          'cvect__stop_words': ['english', None]}\\n\\ngrid = GridSearchCV(\\n    estimator = vect_pipe_1,\\n    param_grid = params\\n).fit(X_lem_train, y_lem_train)\\n\\ntest_acc_grid = grid.score(X_lem_test, y_lem_test)\\n\\nprint(grid.best_params_)\\ntest_acc_grid\\n\""
      ]
     },
     "execution_count": 49,
     "metadata": {},
     "output_type": "execute_result"
    }
   ],
   "source": [
    "# GridSearch stop_words and max_features\n",
    "\n",
    "# This GridSearch and the next further below took a long time to finish running.\n",
    "# I already received their results and put them in cells since I don't want to run them again.\n",
    "\"\"\"\n",
    "params = {'cvect__max_features': [100, 500, 1000, 2000],\n",
    "          'cvect__stop_words': ['english', None]}\n",
    "\n",
    "grid = GridSearchCV(\n",
    "    estimator = vect_pipe_1,\n",
    "    param_grid = params\n",
    ").fit(X_lem_train, y_lem_train)\n",
    "\n",
    "test_acc_grid = grid.score(X_lem_test, y_lem_test)\n",
    "\n",
    "print(grid.best_params_)\n",
    "test_acc_grid\n",
    "\"\"\""
   ]
  },
  {
   "cell_type": "code",
   "execution_count": 50,
   "id": "fe7ece6d",
   "metadata": {},
   "outputs": [],
   "source": [
    "# Received grid.best_params_\n",
    "cvect__max_features = 1000\n",
    "cvect__stop_words = None\n",
    "# The score is 0.263608514839902\n",
    "# Note that the \"max_feature = 300\" and \"stop_word = None\" has a slightly higher score than this"
   ]
  },
  {
   "cell_type": "code",
   "execution_count": 51,
   "id": "f3618922",
   "metadata": {},
   "outputs": [
    {
     "data": {
      "text/plain": [
       "0.2512329928744912"
      ]
     },
     "execution_count": 51,
     "metadata": {},
     "output_type": "execute_result"
    }
   ],
   "source": [
    "vect_pipe_2 = Pipeline([\n",
    "    ('cvect', CountVectorizer(max_features = cvect__max_features, stop_words = cvect__stop_words)),\n",
    "    ('forest', RandomForestRegressor(random_state = 42))\n",
    "]).fit(X_lem_train, y_lem_train)\n",
    "\n",
    "test_acc_pipe_2 = vect_pipe_2.score(X_lem_test, y_lem_test)\n",
    "test_acc_pipe_2"
   ]
  },
  {
   "cell_type": "code",
   "execution_count": 52,
   "id": "ec08cb0e",
   "metadata": {},
   "outputs": [
    {
     "data": {
      "text/html": [
       "<div>\n",
       "<style scoped>\n",
       "    .dataframe tbody tr th:only-of-type {\n",
       "        vertical-align: middle;\n",
       "    }\n",
       "\n",
       "    .dataframe tbody tr th {\n",
       "        vertical-align: top;\n",
       "    }\n",
       "\n",
       "    .dataframe thead th {\n",
       "        text-align: right;\n",
       "    }\n",
       "</style>\n",
       "<table border=\"1\" class=\"dataframe\">\n",
       "  <thead>\n",
       "    <tr style=\"text-align: right;\">\n",
       "      <th></th>\n",
       "      <th>000</th>\n",
       "      <th>001</th>\n",
       "      <th>003</th>\n",
       "      <th>007</th>\n",
       "      <th>0081</th>\n",
       "      <th>009</th>\n",
       "      <th>0096</th>\n",
       "      <th>0097</th>\n",
       "      <th>01</th>\n",
       "      <th>02</th>\n",
       "      <th>...</th>\n",
       "      <th>はじめての城下町デート</th>\n",
       "      <th>ミツヒデ</th>\n",
       "      <th>ラジ王子幼少のみぎり</th>\n",
       "      <th>始まりのゼン</th>\n",
       "      <th>木々</th>\n",
       "      <th>水猫</th>\n",
       "      <th>白雪とゼン</th>\n",
       "      <th>赤猫</th>\n",
       "      <th>鎮座dopeness</th>\n",
       "      <th>青青草原</th>\n",
       "    </tr>\n",
       "  </thead>\n",
       "  <tbody>\n",
       "    <tr>\n",
       "      <th>0</th>\n",
       "      <td>0.0</td>\n",
       "      <td>0.0</td>\n",
       "      <td>0.0</td>\n",
       "      <td>0.0</td>\n",
       "      <td>0.0</td>\n",
       "      <td>0.0</td>\n",
       "      <td>0.0</td>\n",
       "      <td>0.0</td>\n",
       "      <td>0.0</td>\n",
       "      <td>0.0</td>\n",
       "      <td>...</td>\n",
       "      <td>0.0</td>\n",
       "      <td>0.0</td>\n",
       "      <td>0.0</td>\n",
       "      <td>0.0</td>\n",
       "      <td>0.0</td>\n",
       "      <td>0.0</td>\n",
       "      <td>0.0</td>\n",
       "      <td>0.0</td>\n",
       "      <td>0.0</td>\n",
       "      <td>0.0</td>\n",
       "    </tr>\n",
       "    <tr>\n",
       "      <th>1</th>\n",
       "      <td>0.0</td>\n",
       "      <td>0.0</td>\n",
       "      <td>0.0</td>\n",
       "      <td>0.0</td>\n",
       "      <td>0.0</td>\n",
       "      <td>0.0</td>\n",
       "      <td>0.0</td>\n",
       "      <td>0.0</td>\n",
       "      <td>0.0</td>\n",
       "      <td>0.0</td>\n",
       "      <td>...</td>\n",
       "      <td>0.0</td>\n",
       "      <td>0.0</td>\n",
       "      <td>0.0</td>\n",
       "      <td>0.0</td>\n",
       "      <td>0.0</td>\n",
       "      <td>0.0</td>\n",
       "      <td>0.0</td>\n",
       "      <td>0.0</td>\n",
       "      <td>0.0</td>\n",
       "      <td>0.0</td>\n",
       "    </tr>\n",
       "    <tr>\n",
       "      <th>2</th>\n",
       "      <td>0.0</td>\n",
       "      <td>0.0</td>\n",
       "      <td>0.0</td>\n",
       "      <td>0.0</td>\n",
       "      <td>0.0</td>\n",
       "      <td>0.0</td>\n",
       "      <td>0.0</td>\n",
       "      <td>0.0</td>\n",
       "      <td>0.0</td>\n",
       "      <td>0.0</td>\n",
       "      <td>...</td>\n",
       "      <td>0.0</td>\n",
       "      <td>0.0</td>\n",
       "      <td>0.0</td>\n",
       "      <td>0.0</td>\n",
       "      <td>0.0</td>\n",
       "      <td>0.0</td>\n",
       "      <td>0.0</td>\n",
       "      <td>0.0</td>\n",
       "      <td>0.0</td>\n",
       "      <td>0.0</td>\n",
       "    </tr>\n",
       "    <tr>\n",
       "      <th>3</th>\n",
       "      <td>0.0</td>\n",
       "      <td>0.0</td>\n",
       "      <td>0.0</td>\n",
       "      <td>0.0</td>\n",
       "      <td>0.0</td>\n",
       "      <td>0.0</td>\n",
       "      <td>0.0</td>\n",
       "      <td>0.0</td>\n",
       "      <td>0.0</td>\n",
       "      <td>0.0</td>\n",
       "      <td>...</td>\n",
       "      <td>0.0</td>\n",
       "      <td>0.0</td>\n",
       "      <td>0.0</td>\n",
       "      <td>0.0</td>\n",
       "      <td>0.0</td>\n",
       "      <td>0.0</td>\n",
       "      <td>0.0</td>\n",
       "      <td>0.0</td>\n",
       "      <td>0.0</td>\n",
       "      <td>0.0</td>\n",
       "    </tr>\n",
       "    <tr>\n",
       "      <th>4</th>\n",
       "      <td>0.0</td>\n",
       "      <td>0.0</td>\n",
       "      <td>0.0</td>\n",
       "      <td>0.0</td>\n",
       "      <td>0.0</td>\n",
       "      <td>0.0</td>\n",
       "      <td>0.0</td>\n",
       "      <td>0.0</td>\n",
       "      <td>0.0</td>\n",
       "      <td>0.0</td>\n",
       "      <td>...</td>\n",
       "      <td>0.0</td>\n",
       "      <td>0.0</td>\n",
       "      <td>0.0</td>\n",
       "      <td>0.0</td>\n",
       "      <td>0.0</td>\n",
       "      <td>0.0</td>\n",
       "      <td>0.0</td>\n",
       "      <td>0.0</td>\n",
       "      <td>0.0</td>\n",
       "      <td>0.0</td>\n",
       "    </tr>\n",
       "  </tbody>\n",
       "</table>\n",
       "<p>5 rows × 10250 columns</p>\n",
       "</div>"
      ],
      "text/plain": [
       "   000  001  003  007  0081  009  0096  0097   01   02  ...  はじめての城下町デート  \\\n",
       "0  0.0  0.0  0.0  0.0   0.0  0.0   0.0   0.0  0.0  0.0  ...          0.0   \n",
       "1  0.0  0.0  0.0  0.0   0.0  0.0   0.0   0.0  0.0  0.0  ...          0.0   \n",
       "2  0.0  0.0  0.0  0.0   0.0  0.0   0.0   0.0  0.0  0.0  ...          0.0   \n",
       "3  0.0  0.0  0.0  0.0   0.0  0.0   0.0   0.0  0.0  0.0  ...          0.0   \n",
       "4  0.0  0.0  0.0  0.0   0.0  0.0   0.0   0.0  0.0  0.0  ...          0.0   \n",
       "\n",
       "   ミツヒデ  ラジ王子幼少のみぎり  始まりのゼン   木々   水猫  白雪とゼン   赤猫  鎮座dopeness  青青草原  \n",
       "0   0.0         0.0     0.0  0.0  0.0    0.0  0.0         0.0   0.0  \n",
       "1   0.0         0.0     0.0  0.0  0.0    0.0  0.0         0.0   0.0  \n",
       "2   0.0         0.0     0.0  0.0  0.0    0.0  0.0         0.0   0.0  \n",
       "3   0.0         0.0     0.0  0.0  0.0    0.0  0.0         0.0   0.0  \n",
       "4   0.0         0.0     0.0  0.0  0.0    0.0  0.0         0.0   0.0  \n",
       "\n",
       "[5 rows x 10250 columns]"
      ]
     },
     "execution_count": 52,
     "metadata": {},
     "output_type": "execute_result"
    }
   ],
   "source": [
    "# Tfidf\n",
    "tfidf = TfidfVectorizer()\n",
    "dtm2 = tfidf.fit_transform(X_lem_train)\n",
    "\n",
    "pd.DataFrame(dtm2.toarray(), columns = tfidf.get_feature_names_out()).head()"
   ]
  },
  {
   "cell_type": "code",
   "execution_count": 53,
   "id": "64d6538b",
   "metadata": {},
   "outputs": [
    {
     "name": "stdout",
     "output_type": "stream",
     "text": [
      "{'tfidf': TfidfVectorizer(max_features=300), 'forest': RandomForestRegressor(random_state=42)}\n"
     ]
    },
    {
     "data": {
      "text/plain": [
       "0.1891657215861844"
      ]
     },
     "execution_count": 53,
     "metadata": {},
     "output_type": "execute_result"
    }
   ],
   "source": [
    "# Pipeline tfidf and forest\n",
    "tfidf_pipe = Pipeline([\n",
    "    ('tfidf', TfidfVectorizer(max_features = 300)),\n",
    "    ('forest', RandomForestRegressor(random_state = 42))\n",
    "]).fit(X_lem_train, y_lem_train)\n",
    "\n",
    "test_acc2 = tfidf_pipe.score(X_lem_test, y_lem_test)\n",
    "\n",
    "print(tfidf_pipe.named_steps)\n",
    "test_acc2"
   ]
  },
  {
   "cell_type": "code",
   "execution_count": 54,
   "id": "8e8215c6",
   "metadata": {},
   "outputs": [
    {
     "data": {
      "text/plain": [
       "\"\\nparams2 = {'tfidf__max_features': [100, 500, 1000, 2000],\\n          'tfidf__stop_words': ['english', None]}\\n\\ngrid2 = GridSearchCV(\\n    estimator = tfidf_pipe,\\n    param_grid = params2\\n).fit(X_lem_train, y_lem_train)\\n\\ntest_acc2_grid = grid2.score(X_lem_test, y_lem_test)\\n\\nprint(grid2.best_params_)\\ntest_acc2_grid\\n\""
      ]
     },
     "execution_count": 54,
     "metadata": {},
     "output_type": "execute_result"
    }
   ],
   "source": [
    "\"\"\"\n",
    "params2 = {'tfidf__max_features': [100, 500, 1000, 2000],\n",
    "          'tfidf__stop_words': ['english', None]}\n",
    "\n",
    "grid2 = GridSearchCV(\n",
    "    estimator = tfidf_pipe,\n",
    "    param_grid = params2\n",
    ").fit(X_lem_train, y_lem_train)\n",
    "\n",
    "test_acc2_grid = grid2.score(X_lem_test, y_lem_test)\n",
    "\n",
    "print(grid2.best_params_)\n",
    "test_acc2_grid\n",
    "\"\"\""
   ]
  },
  {
   "cell_type": "code",
   "execution_count": 55,
   "id": "c65bce0c",
   "metadata": {},
   "outputs": [],
   "source": [
    "# Received grid2.best_params_\n",
    "tfidf__max_features = 2000\n",
    "tfidf__stop_words = None\n",
    "# The score is 0.25416990214068835"
   ]
  },
  {
   "cell_type": "code",
   "execution_count": 56,
   "id": "fd8ee85d",
   "metadata": {},
   "outputs": [
    {
     "data": {
      "text/plain": [
       "0.2740610572668807"
      ]
     },
     "execution_count": 56,
     "metadata": {},
     "output_type": "execute_result"
    }
   ],
   "source": [
    "tfidf_pipe2 = Pipeline([\n",
    "    ('tfidf', TfidfVectorizer(max_features = tfidf__max_features, stop_words = tfidf__stop_words)),\n",
    "    ('forest', RandomForestRegressor(random_state = 42))]).fit(X_lem_train, y_lem_train)\n",
    "\n",
    "test_acc2_pipe2 = tfidf_pipe2.score(X_lem_test, y_lem_test)\n",
    "test_acc2_pipe2"
   ]
  },
  {
   "cell_type": "markdown",
   "id": "5eb078db",
   "metadata": {},
   "source": [
    "As you can see, the scores are pretty low. Running them also took a very long time and that was only training/testing 1,500 random synopses (corpora) from the cleaned DataFrame of 15,583 synopses.  \n",
    "\n",
    "Perhaps there may be faster regression models or maybe there are \"Japanese\" stopwords as you can see that the feature extraction methods have Japanese words, these will require further research.\n",
    "\n",
    "\n",
    "For now, we'll be moving on to the column 'genre'. Hopefully, we may provide faster and more accurate predictions there."
   ]
  },
  {
   "cell_type": "markdown",
   "id": "e592b4e6",
   "metadata": {},
   "source": [
    "# Genre"
   ]
  },
  {
   "cell_type": "code",
   "execution_count": 57,
   "id": "5cd660ac",
   "metadata": {},
   "outputs": [
    {
     "data": {
      "text/html": [
       "<div>\n",
       "<style scoped>\n",
       "    .dataframe tbody tr th:only-of-type {\n",
       "        vertical-align: middle;\n",
       "    }\n",
       "\n",
       "    .dataframe tbody tr th {\n",
       "        vertical-align: top;\n",
       "    }\n",
       "\n",
       "    .dataframe thead th {\n",
       "        text-align: right;\n",
       "    }\n",
       "</style>\n",
       "<table border=\"1\" class=\"dataframe\">\n",
       "  <thead>\n",
       "    <tr style=\"text-align: right;\">\n",
       "      <th></th>\n",
       "      <th>genre</th>\n",
       "      <th>members</th>\n",
       "    </tr>\n",
       "  </thead>\n",
       "  <tbody>\n",
       "    <tr>\n",
       "      <th>0</th>\n",
       "      <td>(Comedy, Sports, Drama, School, Shounen)</td>\n",
       "      <td>489888</td>\n",
       "    </tr>\n",
       "    <tr>\n",
       "      <th>1</th>\n",
       "      <td>(Drama, Music, Romance, School, Shounen)</td>\n",
       "      <td>995473</td>\n",
       "    </tr>\n",
       "    <tr>\n",
       "      <th>2</th>\n",
       "      <td>(Sci-Fi, Adventure, Mystery, Drama, Fantasy)</td>\n",
       "      <td>581663</td>\n",
       "    </tr>\n",
       "    <tr>\n",
       "      <th>3</th>\n",
       "      <td>(Action, Military, Adventure, Comedy, Drama, M...</td>\n",
       "      <td>1615084</td>\n",
       "    </tr>\n",
       "    <tr>\n",
       "      <th>4</th>\n",
       "      <td>(Action, Mystery, Supernatural, Vampire)</td>\n",
       "      <td>214621</td>\n",
       "    </tr>\n",
       "  </tbody>\n",
       "</table>\n",
       "</div>"
      ],
      "text/plain": [
       "                                               genre  members\n",
       "0           (Comedy, Sports, Drama, School, Shounen)   489888\n",
       "1           (Drama, Music, Romance, School, Shounen)   995473\n",
       "2       (Sci-Fi, Adventure, Mystery, Drama, Fantasy)   581663\n",
       "3  (Action, Military, Adventure, Comedy, Drama, M...  1615084\n",
       "4           (Action, Mystery, Supernatural, Vampire)   214621"
      ]
     },
     "execution_count": 57,
     "metadata": {},
     "output_type": "execute_result"
    }
   ],
   "source": [
    "genre_df = animes_df[['genre', 'members']]\n",
    "genre_df.head()"
   ]
  },
  {
   "cell_type": "code",
   "execution_count": 58,
   "id": "2fe6f9a4",
   "metadata": {},
   "outputs": [
    {
     "data": {
      "text/plain": [
       "0"
      ]
     },
     "execution_count": 58,
     "metadata": {},
     "output_type": "execute_result"
    }
   ],
   "source": [
    "# Let's first check if there any nulls.\n",
    "genre_df['genre'].isnull().sum()"
   ]
  },
  {
   "cell_type": "code",
   "execution_count": 59,
   "id": "a496d417",
   "metadata": {},
   "outputs": [
    {
     "data": {
      "text/plain": [
       "0"
      ]
     },
     "execution_count": 59,
     "metadata": {},
     "output_type": "execute_result"
    }
   ],
   "source": [
    "# What about members?\n",
    "genre_df['members'].isnull().sum()"
   ]
  },
  {
   "cell_type": "markdown",
   "id": "8c2ef825",
   "metadata": {},
   "source": [
    "Great, there are none.                                                                                                  \n",
    "Now, notice that the column contains tuples of genres.                                                                   \n",
    "Let's try to split them into columns, each labeled with a distinct genre."
   ]
  },
  {
   "cell_type": "code",
   "execution_count": 60,
   "id": "0c0686fb",
   "metadata": {},
   "outputs": [
    {
     "data": {
      "text/html": [
       "<div>\n",
       "<style scoped>\n",
       "    .dataframe tbody tr th:only-of-type {\n",
       "        vertical-align: middle;\n",
       "    }\n",
       "\n",
       "    .dataframe tbody tr th {\n",
       "        vertical-align: top;\n",
       "    }\n",
       "\n",
       "    .dataframe thead th {\n",
       "        text-align: right;\n",
       "    }\n",
       "</style>\n",
       "<table border=\"1\" class=\"dataframe\">\n",
       "  <thead>\n",
       "    <tr style=\"text-align: right;\">\n",
       "      <th></th>\n",
       "      <th>members</th>\n",
       "      <th>genre_()</th>\n",
       "      <th>genre_('Action',)</th>\n",
       "      <th>genre_('Action', 'Adventure')</th>\n",
       "      <th>genre_('Action', 'Adventure', 'Cars')</th>\n",
       "      <th>genre_('Action', 'Adventure', 'Cars', 'Comedy', 'Kids', 'Police')</th>\n",
       "      <th>genre_('Action', 'Adventure', 'Cars', 'Comedy', 'Sci-Fi', 'Shounen')</th>\n",
       "      <th>genre_('Action', 'Adventure', 'Cars', 'Sci-Fi')</th>\n",
       "      <th>genre_('Action', 'Adventure', 'Comedy')</th>\n",
       "      <th>genre_('Action', 'Adventure', 'Comedy', 'Demons', 'Drama', 'Ecchi', 'Horror', 'Mystery', 'Romance', 'Sci-Fi')</th>\n",
       "      <th>...</th>\n",
       "      <th>genre_('Supernatural', 'Magic', 'Fantasy')</th>\n",
       "      <th>genre_('Supernatural', 'Music')</th>\n",
       "      <th>genre_('Supernatural', 'School')</th>\n",
       "      <th>genre_('Supernatural', 'Shounen')</th>\n",
       "      <th>genre_('Supernatural', 'Vampire')</th>\n",
       "      <th>genre_('Thriller',)</th>\n",
       "      <th>genre_('Thriller', 'Mystery', 'Sci-Fi')</th>\n",
       "      <th>genre_('Thriller', 'Sci-Fi')</th>\n",
       "      <th>genre_('Vampire',)</th>\n",
       "      <th>genre_('Yaoi',)</th>\n",
       "    </tr>\n",
       "  </thead>\n",
       "  <tbody>\n",
       "    <tr>\n",
       "      <th>0</th>\n",
       "      <td>489888</td>\n",
       "      <td>0</td>\n",
       "      <td>0</td>\n",
       "      <td>0</td>\n",
       "      <td>0</td>\n",
       "      <td>0</td>\n",
       "      <td>0</td>\n",
       "      <td>0</td>\n",
       "      <td>0</td>\n",
       "      <td>0</td>\n",
       "      <td>...</td>\n",
       "      <td>0</td>\n",
       "      <td>0</td>\n",
       "      <td>0</td>\n",
       "      <td>0</td>\n",
       "      <td>0</td>\n",
       "      <td>0</td>\n",
       "      <td>0</td>\n",
       "      <td>0</td>\n",
       "      <td>0</td>\n",
       "      <td>0</td>\n",
       "    </tr>\n",
       "    <tr>\n",
       "      <th>1</th>\n",
       "      <td>995473</td>\n",
       "      <td>0</td>\n",
       "      <td>0</td>\n",
       "      <td>0</td>\n",
       "      <td>0</td>\n",
       "      <td>0</td>\n",
       "      <td>0</td>\n",
       "      <td>0</td>\n",
       "      <td>0</td>\n",
       "      <td>0</td>\n",
       "      <td>...</td>\n",
       "      <td>0</td>\n",
       "      <td>0</td>\n",
       "      <td>0</td>\n",
       "      <td>0</td>\n",
       "      <td>0</td>\n",
       "      <td>0</td>\n",
       "      <td>0</td>\n",
       "      <td>0</td>\n",
       "      <td>0</td>\n",
       "      <td>0</td>\n",
       "    </tr>\n",
       "    <tr>\n",
       "      <th>2</th>\n",
       "      <td>581663</td>\n",
       "      <td>0</td>\n",
       "      <td>0</td>\n",
       "      <td>0</td>\n",
       "      <td>0</td>\n",
       "      <td>0</td>\n",
       "      <td>0</td>\n",
       "      <td>0</td>\n",
       "      <td>0</td>\n",
       "      <td>0</td>\n",
       "      <td>...</td>\n",
       "      <td>0</td>\n",
       "      <td>0</td>\n",
       "      <td>0</td>\n",
       "      <td>0</td>\n",
       "      <td>0</td>\n",
       "      <td>0</td>\n",
       "      <td>0</td>\n",
       "      <td>0</td>\n",
       "      <td>0</td>\n",
       "      <td>0</td>\n",
       "    </tr>\n",
       "    <tr>\n",
       "      <th>3</th>\n",
       "      <td>1615084</td>\n",
       "      <td>0</td>\n",
       "      <td>0</td>\n",
       "      <td>0</td>\n",
       "      <td>0</td>\n",
       "      <td>0</td>\n",
       "      <td>0</td>\n",
       "      <td>0</td>\n",
       "      <td>0</td>\n",
       "      <td>0</td>\n",
       "      <td>...</td>\n",
       "      <td>0</td>\n",
       "      <td>0</td>\n",
       "      <td>0</td>\n",
       "      <td>0</td>\n",
       "      <td>0</td>\n",
       "      <td>0</td>\n",
       "      <td>0</td>\n",
       "      <td>0</td>\n",
       "      <td>0</td>\n",
       "      <td>0</td>\n",
       "    </tr>\n",
       "    <tr>\n",
       "      <th>4</th>\n",
       "      <td>214621</td>\n",
       "      <td>0</td>\n",
       "      <td>0</td>\n",
       "      <td>0</td>\n",
       "      <td>0</td>\n",
       "      <td>0</td>\n",
       "      <td>0</td>\n",
       "      <td>0</td>\n",
       "      <td>0</td>\n",
       "      <td>0</td>\n",
       "      <td>...</td>\n",
       "      <td>0</td>\n",
       "      <td>0</td>\n",
       "      <td>0</td>\n",
       "      <td>0</td>\n",
       "      <td>0</td>\n",
       "      <td>0</td>\n",
       "      <td>0</td>\n",
       "      <td>0</td>\n",
       "      <td>0</td>\n",
       "      <td>0</td>\n",
       "    </tr>\n",
       "  </tbody>\n",
       "</table>\n",
       "<p>5 rows × 4852 columns</p>\n",
       "</div>"
      ],
      "text/plain": [
       "   members  genre_()  genre_('Action',)  genre_('Action', 'Adventure')  \\\n",
       "0   489888         0                  0                              0   \n",
       "1   995473         0                  0                              0   \n",
       "2   581663         0                  0                              0   \n",
       "3  1615084         0                  0                              0   \n",
       "4   214621         0                  0                              0   \n",
       "\n",
       "   genre_('Action', 'Adventure', 'Cars')  \\\n",
       "0                                      0   \n",
       "1                                      0   \n",
       "2                                      0   \n",
       "3                                      0   \n",
       "4                                      0   \n",
       "\n",
       "   genre_('Action', 'Adventure', 'Cars', 'Comedy', 'Kids', 'Police')  \\\n",
       "0                                                  0                   \n",
       "1                                                  0                   \n",
       "2                                                  0                   \n",
       "3                                                  0                   \n",
       "4                                                  0                   \n",
       "\n",
       "   genre_('Action', 'Adventure', 'Cars', 'Comedy', 'Sci-Fi', 'Shounen')  \\\n",
       "0                                                  0                      \n",
       "1                                                  0                      \n",
       "2                                                  0                      \n",
       "3                                                  0                      \n",
       "4                                                  0                      \n",
       "\n",
       "   genre_('Action', 'Adventure', 'Cars', 'Sci-Fi')  \\\n",
       "0                                                0   \n",
       "1                                                0   \n",
       "2                                                0   \n",
       "3                                                0   \n",
       "4                                                0   \n",
       "\n",
       "   genre_('Action', 'Adventure', 'Comedy')  \\\n",
       "0                                        0   \n",
       "1                                        0   \n",
       "2                                        0   \n",
       "3                                        0   \n",
       "4                                        0   \n",
       "\n",
       "   genre_('Action', 'Adventure', 'Comedy', 'Demons', 'Drama', 'Ecchi', 'Horror', 'Mystery', 'Romance', 'Sci-Fi')  \\\n",
       "0                                                  0                                                               \n",
       "1                                                  0                                                               \n",
       "2                                                  0                                                               \n",
       "3                                                  0                                                               \n",
       "4                                                  0                                                               \n",
       "\n",
       "   ...  genre_('Supernatural', 'Magic', 'Fantasy')  \\\n",
       "0  ...                                           0   \n",
       "1  ...                                           0   \n",
       "2  ...                                           0   \n",
       "3  ...                                           0   \n",
       "4  ...                                           0   \n",
       "\n",
       "   genre_('Supernatural', 'Music')  genre_('Supernatural', 'School')  \\\n",
       "0                                0                                 0   \n",
       "1                                0                                 0   \n",
       "2                                0                                 0   \n",
       "3                                0                                 0   \n",
       "4                                0                                 0   \n",
       "\n",
       "   genre_('Supernatural', 'Shounen')  genre_('Supernatural', 'Vampire')  \\\n",
       "0                                  0                                  0   \n",
       "1                                  0                                  0   \n",
       "2                                  0                                  0   \n",
       "3                                  0                                  0   \n",
       "4                                  0                                  0   \n",
       "\n",
       "   genre_('Thriller',)  genre_('Thriller', 'Mystery', 'Sci-Fi')  \\\n",
       "0                    0                                        0   \n",
       "1                    0                                        0   \n",
       "2                    0                                        0   \n",
       "3                    0                                        0   \n",
       "4                    0                                        0   \n",
       "\n",
       "   genre_('Thriller', 'Sci-Fi')  genre_('Vampire',)  genre_('Yaoi',)  \n",
       "0                             0                   0                0  \n",
       "1                             0                   0                0  \n",
       "2                             0                   0                0  \n",
       "3                             0                   0                0  \n",
       "4                             0                   0                0  \n",
       "\n",
       "[5 rows x 4852 columns]"
      ]
     },
     "execution_count": 60,
     "metadata": {},
     "output_type": "execute_result"
    }
   ],
   "source": [
    "pd.get_dummies(genre_df, prefix=['genre']).head()"
   ]
  },
  {
   "cell_type": "markdown",
   "id": "24b0e5d8",
   "metadata": {},
   "source": [
    "Looks like pd.get_dummies() is not it."
   ]
  },
  {
   "cell_type": "code",
   "execution_count": 61,
   "id": "c709ac5b",
   "metadata": {},
   "outputs": [],
   "source": [
    "# Let's try Bag-of-Words (CountVectorizer) next\n",
    "X_g = genre_df.drop('members', axis = 1)\n",
    "y_g = genre_df['members']"
   ]
  },
  {
   "cell_type": "code",
   "execution_count": 62,
   "id": "e4925970",
   "metadata": {},
   "outputs": [
    {
     "data": {
      "text/html": [
       "<div>\n",
       "<style scoped>\n",
       "    .dataframe tbody tr th:only-of-type {\n",
       "        vertical-align: middle;\n",
       "    }\n",
       "\n",
       "    .dataframe tbody tr th {\n",
       "        vertical-align: top;\n",
       "    }\n",
       "\n",
       "    .dataframe thead th {\n",
       "        text-align: right;\n",
       "    }\n",
       "</style>\n",
       "<table border=\"1\" class=\"dataframe\">\n",
       "  <thead>\n",
       "    <tr style=\"text-align: right;\">\n",
       "      <th></th>\n",
       "      <th>genre</th>\n",
       "    </tr>\n",
       "  </thead>\n",
       "  <tbody>\n",
       "    <tr>\n",
       "      <th>0</th>\n",
       "      <td>1</td>\n",
       "    </tr>\n",
       "  </tbody>\n",
       "</table>\n",
       "</div>"
      ],
      "text/plain": [
       "   genre\n",
       "0      1"
      ]
     },
     "execution_count": 62,
     "metadata": {},
     "output_type": "execute_result"
    }
   ],
   "source": [
    "cvect_genre = CountVectorizer()\n",
    "dtm_X_g = cvect_genre.fit_transform(X_g)\n",
    "pd.DataFrame(dtm_X_g.toarray(), columns = cvect_genre.get_feature_names_out())"
   ]
  },
  {
   "cell_type": "markdown",
   "id": "e50b1e54",
   "metadata": {},
   "source": [
    "This doesn't make sense. Perhaps each tuple of genres needs to be joined into one string."
   ]
  },
  {
   "cell_type": "code",
   "execution_count": 63,
   "id": "4f3a9c34",
   "metadata": {},
   "outputs": [
    {
     "data": {
      "text/plain": [
       "'Comedy Sports Drama School Shounen'"
      ]
     },
     "execution_count": 63,
     "metadata": {},
     "output_type": "execute_result"
    }
   ],
   "source": [
    "' '.join(genre_df['genre'][0])"
   ]
  },
  {
   "cell_type": "code",
   "execution_count": 64,
   "id": "f0641de5",
   "metadata": {},
   "outputs": [
    {
     "name": "stdout",
     "output_type": "stream",
     "text": [
      "{<class 'str'>}\n"
     ]
    },
    {
     "name": "stderr",
     "output_type": "stream",
     "text": [
      "C:\\Users\\Daniel Ho\\AppData\\Local\\Temp\\ipykernel_22516\\716057375.py:2: SettingWithCopyWarning: \n",
      "A value is trying to be set on a copy of a slice from a DataFrame.\n",
      "Try using .loc[row_indexer,col_indexer] = value instead\n",
      "\n",
      "See the caveats in the documentation: https://pandas.pydata.org/pandas-docs/stable/user_guide/indexing.html#returning-a-view-versus-a-copy\n",
      "  genre_df['genre'] = genre_df['genre'].apply(lambda x: ' '.join(x))\n"
     ]
    },
    {
     "data": {
      "text/html": [
       "<div>\n",
       "<style scoped>\n",
       "    .dataframe tbody tr th:only-of-type {\n",
       "        vertical-align: middle;\n",
       "    }\n",
       "\n",
       "    .dataframe tbody tr th {\n",
       "        vertical-align: top;\n",
       "    }\n",
       "\n",
       "    .dataframe thead th {\n",
       "        text-align: right;\n",
       "    }\n",
       "</style>\n",
       "<table border=\"1\" class=\"dataframe\">\n",
       "  <thead>\n",
       "    <tr style=\"text-align: right;\">\n",
       "      <th></th>\n",
       "      <th>genre</th>\n",
       "      <th>members</th>\n",
       "    </tr>\n",
       "  </thead>\n",
       "  <tbody>\n",
       "    <tr>\n",
       "      <th>0</th>\n",
       "      <td>Comedy Sports Drama School Shounen</td>\n",
       "      <td>489888</td>\n",
       "    </tr>\n",
       "    <tr>\n",
       "      <th>1</th>\n",
       "      <td>Drama Music Romance School Shounen</td>\n",
       "      <td>995473</td>\n",
       "    </tr>\n",
       "    <tr>\n",
       "      <th>2</th>\n",
       "      <td>Sci-Fi Adventure Mystery Drama Fantasy</td>\n",
       "      <td>581663</td>\n",
       "    </tr>\n",
       "    <tr>\n",
       "      <th>3</th>\n",
       "      <td>Action Military Adventure Comedy Drama Magic F...</td>\n",
       "      <td>1615084</td>\n",
       "    </tr>\n",
       "    <tr>\n",
       "      <th>4</th>\n",
       "      <td>Action Mystery Supernatural Vampire</td>\n",
       "      <td>214621</td>\n",
       "    </tr>\n",
       "  </tbody>\n",
       "</table>\n",
       "</div>"
      ],
      "text/plain": [
       "                                               genre  members\n",
       "0                 Comedy Sports Drama School Shounen   489888\n",
       "1                 Drama Music Romance School Shounen   995473\n",
       "2             Sci-Fi Adventure Mystery Drama Fantasy   581663\n",
       "3  Action Military Adventure Comedy Drama Magic F...  1615084\n",
       "4                Action Mystery Supernatural Vampire   214621"
      ]
     },
     "execution_count": 64,
     "metadata": {},
     "output_type": "execute_result"
    }
   ],
   "source": [
    "# This works so let's apply it to the entire column 'genre'\n",
    "genre_df['genre'] = genre_df['genre'].apply(lambda x: ' '.join(x))\n",
    "print(set([type(genre_df['genre'][i]) for i in range(0, len(genre_df))]))\n",
    "genre_df.head()"
   ]
  },
  {
   "cell_type": "code",
   "execution_count": 65,
   "id": "0e917627",
   "metadata": {},
   "outputs": [
    {
     "data": {
      "text/html": [
       "<div>\n",
       "<style scoped>\n",
       "    .dataframe tbody tr th:only-of-type {\n",
       "        vertical-align: middle;\n",
       "    }\n",
       "\n",
       "    .dataframe tbody tr th {\n",
       "        vertical-align: top;\n",
       "    }\n",
       "\n",
       "    .dataframe thead th {\n",
       "        text-align: right;\n",
       "    }\n",
       "</style>\n",
       "<table border=\"1\" class=\"dataframe\">\n",
       "  <thead>\n",
       "    <tr style=\"text-align: right;\">\n",
       "      <th></th>\n",
       "      <th>genre</th>\n",
       "    </tr>\n",
       "  </thead>\n",
       "  <tbody>\n",
       "    <tr>\n",
       "      <th>0</th>\n",
       "      <td>1</td>\n",
       "    </tr>\n",
       "  </tbody>\n",
       "</table>\n",
       "</div>"
      ],
      "text/plain": [
       "   genre\n",
       "0      1"
      ]
     },
     "execution_count": 65,
     "metadata": {},
     "output_type": "execute_result"
    }
   ],
   "source": [
    "# Let's use cvect again\n",
    "X_g = genre_df.drop('members', axis = 1)\n",
    "dtm_X_g = cvect_genre.fit_transform(X_g)\n",
    "pd.DataFrame(dtm_X_g.toarray(), columns = cvect_genre.get_feature_names_out())"
   ]
  },
  {
   "cell_type": "markdown",
   "id": "e87e2e9a",
   "metadata": {},
   "source": [
    "Nope, still not working. Perhaps I need to input X_g as a Series rather than a DataFrame."
   ]
  },
  {
   "cell_type": "code",
   "execution_count": 66,
   "id": "adb75ece",
   "metadata": {},
   "outputs": [
    {
     "data": {
      "text/html": [
       "<div>\n",
       "<style scoped>\n",
       "    .dataframe tbody tr th:only-of-type {\n",
       "        vertical-align: middle;\n",
       "    }\n",
       "\n",
       "    .dataframe tbody tr th {\n",
       "        vertical-align: top;\n",
       "    }\n",
       "\n",
       "    .dataframe thead th {\n",
       "        text-align: right;\n",
       "    }\n",
       "</style>\n",
       "<table border=\"1\" class=\"dataframe\">\n",
       "  <thead>\n",
       "    <tr style=\"text-align: right;\">\n",
       "      <th></th>\n",
       "      <th>genre</th>\n",
       "    </tr>\n",
       "  </thead>\n",
       "  <tbody>\n",
       "    <tr>\n",
       "      <th>0</th>\n",
       "      <td>Comedy Sports Drama School Shounen</td>\n",
       "    </tr>\n",
       "    <tr>\n",
       "      <th>1</th>\n",
       "      <td>Drama Music Romance School Shounen</td>\n",
       "    </tr>\n",
       "    <tr>\n",
       "      <th>2</th>\n",
       "      <td>Sci-Fi Adventure Mystery Drama Fantasy</td>\n",
       "    </tr>\n",
       "    <tr>\n",
       "      <th>3</th>\n",
       "      <td>Action Military Adventure Comedy Drama Magic F...</td>\n",
       "    </tr>\n",
       "    <tr>\n",
       "      <th>4</th>\n",
       "      <td>Action Mystery Supernatural Vampire</td>\n",
       "    </tr>\n",
       "  </tbody>\n",
       "</table>\n",
       "</div>"
      ],
      "text/plain": [
       "                                               genre\n",
       "0                 Comedy Sports Drama School Shounen\n",
       "1                 Drama Music Romance School Shounen\n",
       "2             Sci-Fi Adventure Mystery Drama Fantasy\n",
       "3  Action Military Adventure Comedy Drama Magic F...\n",
       "4                Action Mystery Supernatural Vampire"
      ]
     },
     "execution_count": 66,
     "metadata": {},
     "output_type": "execute_result"
    }
   ],
   "source": [
    "X_g.head()"
   ]
  },
  {
   "cell_type": "code",
   "execution_count": 67,
   "id": "0ed6aaa4",
   "metadata": {},
   "outputs": [
    {
     "data": {
      "text/html": [
       "<div>\n",
       "<style scoped>\n",
       "    .dataframe tbody tr th:only-of-type {\n",
       "        vertical-align: middle;\n",
       "    }\n",
       "\n",
       "    .dataframe tbody tr th {\n",
       "        vertical-align: top;\n",
       "    }\n",
       "\n",
       "    .dataframe thead th {\n",
       "        text-align: right;\n",
       "    }\n",
       "</style>\n",
       "<table border=\"1\" class=\"dataframe\">\n",
       "  <thead>\n",
       "    <tr style=\"text-align: right;\">\n",
       "      <th></th>\n",
       "      <th>action</th>\n",
       "      <th>adventure</th>\n",
       "      <th>ai</th>\n",
       "      <th>arts</th>\n",
       "      <th>cars</th>\n",
       "      <th>comedy</th>\n",
       "      <th>dementia</th>\n",
       "      <th>demons</th>\n",
       "      <th>drama</th>\n",
       "      <th>ecchi</th>\n",
       "      <th>...</th>\n",
       "      <th>shounen</th>\n",
       "      <th>slice</th>\n",
       "      <th>space</th>\n",
       "      <th>sports</th>\n",
       "      <th>super</th>\n",
       "      <th>supernatural</th>\n",
       "      <th>thriller</th>\n",
       "      <th>vampire</th>\n",
       "      <th>yaoi</th>\n",
       "      <th>yuri</th>\n",
       "    </tr>\n",
       "  </thead>\n",
       "  <tbody>\n",
       "    <tr>\n",
       "      <th>0</th>\n",
       "      <td>0</td>\n",
       "      <td>0</td>\n",
       "      <td>0</td>\n",
       "      <td>0</td>\n",
       "      <td>0</td>\n",
       "      <td>1</td>\n",
       "      <td>0</td>\n",
       "      <td>0</td>\n",
       "      <td>1</td>\n",
       "      <td>0</td>\n",
       "      <td>...</td>\n",
       "      <td>1</td>\n",
       "      <td>0</td>\n",
       "      <td>0</td>\n",
       "      <td>1</td>\n",
       "      <td>0</td>\n",
       "      <td>0</td>\n",
       "      <td>0</td>\n",
       "      <td>0</td>\n",
       "      <td>0</td>\n",
       "      <td>0</td>\n",
       "    </tr>\n",
       "    <tr>\n",
       "      <th>1</th>\n",
       "      <td>0</td>\n",
       "      <td>0</td>\n",
       "      <td>0</td>\n",
       "      <td>0</td>\n",
       "      <td>0</td>\n",
       "      <td>0</td>\n",
       "      <td>0</td>\n",
       "      <td>0</td>\n",
       "      <td>1</td>\n",
       "      <td>0</td>\n",
       "      <td>...</td>\n",
       "      <td>1</td>\n",
       "      <td>0</td>\n",
       "      <td>0</td>\n",
       "      <td>0</td>\n",
       "      <td>0</td>\n",
       "      <td>0</td>\n",
       "      <td>0</td>\n",
       "      <td>0</td>\n",
       "      <td>0</td>\n",
       "      <td>0</td>\n",
       "    </tr>\n",
       "    <tr>\n",
       "      <th>2</th>\n",
       "      <td>0</td>\n",
       "      <td>1</td>\n",
       "      <td>0</td>\n",
       "      <td>0</td>\n",
       "      <td>0</td>\n",
       "      <td>0</td>\n",
       "      <td>0</td>\n",
       "      <td>0</td>\n",
       "      <td>1</td>\n",
       "      <td>0</td>\n",
       "      <td>...</td>\n",
       "      <td>0</td>\n",
       "      <td>0</td>\n",
       "      <td>0</td>\n",
       "      <td>0</td>\n",
       "      <td>0</td>\n",
       "      <td>0</td>\n",
       "      <td>0</td>\n",
       "      <td>0</td>\n",
       "      <td>0</td>\n",
       "      <td>0</td>\n",
       "    </tr>\n",
       "    <tr>\n",
       "      <th>3</th>\n",
       "      <td>1</td>\n",
       "      <td>1</td>\n",
       "      <td>0</td>\n",
       "      <td>0</td>\n",
       "      <td>0</td>\n",
       "      <td>1</td>\n",
       "      <td>0</td>\n",
       "      <td>0</td>\n",
       "      <td>1</td>\n",
       "      <td>0</td>\n",
       "      <td>...</td>\n",
       "      <td>1</td>\n",
       "      <td>0</td>\n",
       "      <td>0</td>\n",
       "      <td>0</td>\n",
       "      <td>0</td>\n",
       "      <td>0</td>\n",
       "      <td>0</td>\n",
       "      <td>0</td>\n",
       "      <td>0</td>\n",
       "      <td>0</td>\n",
       "    </tr>\n",
       "    <tr>\n",
       "      <th>4</th>\n",
       "      <td>1</td>\n",
       "      <td>0</td>\n",
       "      <td>0</td>\n",
       "      <td>0</td>\n",
       "      <td>0</td>\n",
       "      <td>0</td>\n",
       "      <td>0</td>\n",
       "      <td>0</td>\n",
       "      <td>0</td>\n",
       "      <td>0</td>\n",
       "      <td>...</td>\n",
       "      <td>0</td>\n",
       "      <td>0</td>\n",
       "      <td>0</td>\n",
       "      <td>0</td>\n",
       "      <td>0</td>\n",
       "      <td>1</td>\n",
       "      <td>0</td>\n",
       "      <td>1</td>\n",
       "      <td>0</td>\n",
       "      <td>0</td>\n",
       "    </tr>\n",
       "  </tbody>\n",
       "</table>\n",
       "<p>5 rows × 47 columns</p>\n",
       "</div>"
      ],
      "text/plain": [
       "   action  adventure  ai  arts  cars  comedy  dementia  demons  drama  ecchi  \\\n",
       "0       0          0   0     0     0       1         0       0      1      0   \n",
       "1       0          0   0     0     0       0         0       0      1      0   \n",
       "2       0          1   0     0     0       0         0       0      1      0   \n",
       "3       1          1   0     0     0       1         0       0      1      0   \n",
       "4       1          0   0     0     0       0         0       0      0      0   \n",
       "\n",
       "   ...  shounen  slice  space  sports  super  supernatural  thriller  vampire  \\\n",
       "0  ...        1      0      0       1      0             0         0        0   \n",
       "1  ...        1      0      0       0      0             0         0        0   \n",
       "2  ...        0      0      0       0      0             0         0        0   \n",
       "3  ...        1      0      0       0      0             0         0        0   \n",
       "4  ...        0      0      0       0      0             1         0        1   \n",
       "\n",
       "   yaoi  yuri  \n",
       "0     0     0  \n",
       "1     0     0  \n",
       "2     0     0  \n",
       "3     0     0  \n",
       "4     0     0  \n",
       "\n",
       "[5 rows x 47 columns]"
      ]
     },
     "execution_count": 67,
     "metadata": {},
     "output_type": "execute_result"
    }
   ],
   "source": [
    "X_g = X_g['genre']\n",
    "dtm_X_g = cvect_genre.fit_transform(X_g)\n",
    "pd.DataFrame(dtm_X_g.toarray(), columns = cvect_genre.get_feature_names_out()).head()"
   ]
  },
  {
   "cell_type": "code",
   "execution_count": 68,
   "id": "8cd09518",
   "metadata": {},
   "outputs": [
    {
     "data": {
      "text/html": [
       "<div>\n",
       "<style scoped>\n",
       "    .dataframe tbody tr th:only-of-type {\n",
       "        vertical-align: middle;\n",
       "    }\n",
       "\n",
       "    .dataframe tbody tr th {\n",
       "        vertical-align: top;\n",
       "    }\n",
       "\n",
       "    .dataframe thead th {\n",
       "        text-align: right;\n",
       "    }\n",
       "</style>\n",
       "<table border=\"1\" class=\"dataframe\">\n",
       "  <thead>\n",
       "    <tr style=\"text-align: right;\">\n",
       "      <th></th>\n",
       "      <th>action</th>\n",
       "      <th>adventure</th>\n",
       "      <th>ai</th>\n",
       "      <th>arts</th>\n",
       "      <th>cars</th>\n",
       "      <th>comedy</th>\n",
       "      <th>dementia</th>\n",
       "      <th>demons</th>\n",
       "      <th>drama</th>\n",
       "      <th>ecchi</th>\n",
       "      <th>...</th>\n",
       "      <th>shounen</th>\n",
       "      <th>slice</th>\n",
       "      <th>space</th>\n",
       "      <th>sports</th>\n",
       "      <th>super</th>\n",
       "      <th>supernatural</th>\n",
       "      <th>thriller</th>\n",
       "      <th>vampire</th>\n",
       "      <th>yaoi</th>\n",
       "      <th>yuri</th>\n",
       "    </tr>\n",
       "  </thead>\n",
       "  <tbody>\n",
       "    <tr>\n",
       "      <th>5391</th>\n",
       "      <td>1</td>\n",
       "      <td>1</td>\n",
       "      <td>0</td>\n",
       "      <td>0</td>\n",
       "      <td>0</td>\n",
       "      <td>1</td>\n",
       "      <td>0</td>\n",
       "      <td>0</td>\n",
       "      <td>0</td>\n",
       "      <td>0</td>\n",
       "      <td>...</td>\n",
       "      <td>0</td>\n",
       "      <td>0</td>\n",
       "      <td>0</td>\n",
       "      <td>0</td>\n",
       "      <td>0</td>\n",
       "      <td>0</td>\n",
       "      <td>0</td>\n",
       "      <td>0</td>\n",
       "      <td>0</td>\n",
       "      <td>0</td>\n",
       "    </tr>\n",
       "    <tr>\n",
       "      <th>14473</th>\n",
       "      <td>1</td>\n",
       "      <td>0</td>\n",
       "      <td>0</td>\n",
       "      <td>0</td>\n",
       "      <td>0</td>\n",
       "      <td>0</td>\n",
       "      <td>0</td>\n",
       "      <td>0</td>\n",
       "      <td>0</td>\n",
       "      <td>0</td>\n",
       "      <td>...</td>\n",
       "      <td>0</td>\n",
       "      <td>0</td>\n",
       "      <td>0</td>\n",
       "      <td>0</td>\n",
       "      <td>0</td>\n",
       "      <td>0</td>\n",
       "      <td>0</td>\n",
       "      <td>0</td>\n",
       "      <td>0</td>\n",
       "      <td>0</td>\n",
       "    </tr>\n",
       "    <tr>\n",
       "      <th>9642</th>\n",
       "      <td>0</td>\n",
       "      <td>1</td>\n",
       "      <td>0</td>\n",
       "      <td>0</td>\n",
       "      <td>1</td>\n",
       "      <td>0</td>\n",
       "      <td>0</td>\n",
       "      <td>0</td>\n",
       "      <td>0</td>\n",
       "      <td>0</td>\n",
       "      <td>...</td>\n",
       "      <td>0</td>\n",
       "      <td>0</td>\n",
       "      <td>0</td>\n",
       "      <td>0</td>\n",
       "      <td>0</td>\n",
       "      <td>0</td>\n",
       "      <td>0</td>\n",
       "      <td>0</td>\n",
       "      <td>0</td>\n",
       "      <td>0</td>\n",
       "    </tr>\n",
       "    <tr>\n",
       "      <th>12947</th>\n",
       "      <td>0</td>\n",
       "      <td>0</td>\n",
       "      <td>0</td>\n",
       "      <td>0</td>\n",
       "      <td>0</td>\n",
       "      <td>0</td>\n",
       "      <td>0</td>\n",
       "      <td>0</td>\n",
       "      <td>0</td>\n",
       "      <td>0</td>\n",
       "      <td>...</td>\n",
       "      <td>0</td>\n",
       "      <td>0</td>\n",
       "      <td>0</td>\n",
       "      <td>0</td>\n",
       "      <td>0</td>\n",
       "      <td>0</td>\n",
       "      <td>0</td>\n",
       "      <td>0</td>\n",
       "      <td>0</td>\n",
       "      <td>0</td>\n",
       "    </tr>\n",
       "    <tr>\n",
       "      <th>7488</th>\n",
       "      <td>0</td>\n",
       "      <td>0</td>\n",
       "      <td>0</td>\n",
       "      <td>0</td>\n",
       "      <td>0</td>\n",
       "      <td>0</td>\n",
       "      <td>0</td>\n",
       "      <td>0</td>\n",
       "      <td>0</td>\n",
       "      <td>0</td>\n",
       "      <td>...</td>\n",
       "      <td>0</td>\n",
       "      <td>0</td>\n",
       "      <td>0</td>\n",
       "      <td>0</td>\n",
       "      <td>0</td>\n",
       "      <td>0</td>\n",
       "      <td>0</td>\n",
       "      <td>0</td>\n",
       "      <td>0</td>\n",
       "      <td>0</td>\n",
       "    </tr>\n",
       "  </tbody>\n",
       "</table>\n",
       "<p>5 rows × 47 columns</p>\n",
       "</div>"
      ],
      "text/plain": [
       "       action  adventure  ai  arts  cars  comedy  dementia  demons  drama  \\\n",
       "5391        1          1   0     0     0       1         0       0      0   \n",
       "14473       1          0   0     0     0       0         0       0      0   \n",
       "9642        0          1   0     0     1       0         0       0      0   \n",
       "12947       0          0   0     0     0       0         0       0      0   \n",
       "7488        0          0   0     0     0       0         0       0      0   \n",
       "\n",
       "       ecchi  ...  shounen  slice  space  sports  super  supernatural  \\\n",
       "5391       0  ...        0      0      0       0      0             0   \n",
       "14473      0  ...        0      0      0       0      0             0   \n",
       "9642       0  ...        0      0      0       0      0             0   \n",
       "12947      0  ...        0      0      0       0      0             0   \n",
       "7488       0  ...        0      0      0       0      0             0   \n",
       "\n",
       "       thriller  vampire  yaoi  yuri  \n",
       "5391          0        0     0     0  \n",
       "14473         0        0     0     0  \n",
       "9642          0        0     0     0  \n",
       "12947         0        0     0     0  \n",
       "7488          0        0     0     0  \n",
       "\n",
       "[5 rows x 47 columns]"
      ]
     },
     "execution_count": 68,
     "metadata": {},
     "output_type": "execute_result"
    }
   ],
   "source": [
    "# There we go!\n",
    "# Now, let's train/test split.\n",
    "X_g = pd.DataFrame(dtm_X_g.toarray(), columns = cvect_genre.get_feature_names_out())\n",
    "X_g_train, X_g_test, y_g_train, y_g_test = train_test_split(X_g, y_g, test_size = 0.3, random_state = 42)\n",
    "X_g_train.head()"
   ]
  },
  {
   "cell_type": "code",
   "execution_count": 69,
   "id": "5bf51abf",
   "metadata": {},
   "outputs": [
    {
     "data": {
      "text/plain": [
       "0.09169332408961683"
      ]
     },
     "execution_count": 69,
     "metadata": {},
     "output_type": "execute_result"
    }
   ],
   "source": [
    "# And use RandomForestRegressor as the model again.\n",
    "forest = RandomForestRegressor(random_state = 42).fit(X_g_train, y_g_train)\n",
    "test_acc3 = forest.score(X_g_test, y_g_test)\n",
    "test_acc3"
   ]
  },
  {
   "cell_type": "markdown",
   "id": "506ad840",
   "metadata": {},
   "source": [
    "Oof, the score is extremely low. Let's see if GridSearchCV can help out."
   ]
  },
  {
   "cell_type": "code",
   "execution_count": 70,
   "id": "1fc44a1e",
   "metadata": {},
   "outputs": [],
   "source": [
    "import numpy as np"
   ]
  },
  {
   "cell_type": "code",
   "execution_count": 71,
   "id": "3e2fa3b7",
   "metadata": {},
   "outputs": [
    {
     "name": "stdout",
     "output_type": "stream",
     "text": [
      "{'max_depth': 10, 'min_samples_split': 10}\n"
     ]
    },
    {
     "data": {
      "text/plain": [
       "0.1473113237626189"
      ]
     },
     "execution_count": 71,
     "metadata": {},
     "output_type": "execute_result"
    }
   ],
   "source": [
    "params3 = {'max_depth': [2, 5, 10],\n",
    "           'min_samples_split': [2, 5, 10]}\n",
    "\n",
    "genre_grid = GridSearchCV(\n",
    "        estimator = RandomForestRegressor(random_state = 42),\n",
    "        param_grid = params3\n",
    ").fit(X_g_train, y_g_train)\n",
    "\n",
    "print(genre_grid.best_params_)\n",
    "test_acc4 = genre_grid.score(X_g_test, y_g_test)\n",
    "test_acc4"
   ]
  },
  {
   "cell_type": "markdown",
   "id": "0fe44606",
   "metadata": {},
   "source": [
    "Slightly higher but this is still lower than the accuracy received from the NLP training/testing on the column \"synopsis\"."
   ]
  },
  {
   "cell_type": "markdown",
   "id": "e428c4c0",
   "metadata": {},
   "source": [
    "# Other Features (Numerical Ones)\n",
    "As for the other features, since the column \"popularity\" is directly and negatively correlated with the number of members, i.e. the popularity rank is based on the number of members, we'll drop the column \"popularity\" since we're trying to predict the number of members and hence, we must assume we don't know the number of members and therefore not knowing the popularity rank.\n",
    "\n",
    "We will also drop column \"title\" since the name of an anime is not helpful on predicting if it's popular or not."
   ]
  },
  {
   "cell_type": "code",
   "execution_count": 72,
   "id": "9722c821",
   "metadata": {},
   "outputs": [
    {
     "data": {
      "text/html": [
       "<div>\n",
       "<style scoped>\n",
       "    .dataframe tbody tr th:only-of-type {\n",
       "        vertical-align: middle;\n",
       "    }\n",
       "\n",
       "    .dataframe tbody tr th {\n",
       "        vertical-align: top;\n",
       "    }\n",
       "\n",
       "    .dataframe thead th {\n",
       "        text-align: right;\n",
       "    }\n",
       "</style>\n",
       "<table border=\"1\" class=\"dataframe\">\n",
       "  <thead>\n",
       "    <tr style=\"text-align: right;\">\n",
       "      <th></th>\n",
       "      <th>episodes</th>\n",
       "      <th>members</th>\n",
       "      <th>ranked</th>\n",
       "      <th>score</th>\n",
       "    </tr>\n",
       "  </thead>\n",
       "  <tbody>\n",
       "    <tr>\n",
       "      <th>0</th>\n",
       "      <td>25.0</td>\n",
       "      <td>489888</td>\n",
       "      <td>25.0</td>\n",
       "      <td>8.82</td>\n",
       "    </tr>\n",
       "    <tr>\n",
       "      <th>1</th>\n",
       "      <td>22.0</td>\n",
       "      <td>995473</td>\n",
       "      <td>24.0</td>\n",
       "      <td>8.83</td>\n",
       "    </tr>\n",
       "    <tr>\n",
       "      <th>2</th>\n",
       "      <td>13.0</td>\n",
       "      <td>581663</td>\n",
       "      <td>23.0</td>\n",
       "      <td>8.83</td>\n",
       "    </tr>\n",
       "    <tr>\n",
       "      <th>3</th>\n",
       "      <td>64.0</td>\n",
       "      <td>1615084</td>\n",
       "      <td>1.0</td>\n",
       "      <td>9.23</td>\n",
       "    </tr>\n",
       "    <tr>\n",
       "      <th>4</th>\n",
       "      <td>1.0</td>\n",
       "      <td>214621</td>\n",
       "      <td>22.0</td>\n",
       "      <td>8.83</td>\n",
       "    </tr>\n",
       "  </tbody>\n",
       "</table>\n",
       "</div>"
      ],
      "text/plain": [
       "   episodes  members  ranked  score\n",
       "0      25.0   489888    25.0   8.82\n",
       "1      22.0   995473    24.0   8.83\n",
       "2      13.0   581663    23.0   8.83\n",
       "3      64.0  1615084     1.0   9.23\n",
       "4       1.0   214621    22.0   8.83"
      ]
     },
     "execution_count": 72,
     "metadata": {},
     "output_type": "execute_result"
    }
   ],
   "source": [
    "other_features_df = animes_df.drop(columns = ['synopsis', 'genre', 'popularity', 'title'])\n",
    "other_features_df.head()"
   ]
  },
  {
   "cell_type": "code",
   "execution_count": 73,
   "id": "42633c51",
   "metadata": {},
   "outputs": [
    {
     "data": {
      "text/plain": [
       "episodes     543\n",
       "members        0\n",
       "ranked      1757\n",
       "score        404\n",
       "dtype: int64"
      ]
     },
     "execution_count": 73,
     "metadata": {},
     "output_type": "execute_result"
    }
   ],
   "source": [
    "# Let's check for any null values.\n",
    "pd.isna(other_features_df).sum()"
   ]
  },
  {
   "cell_type": "code",
   "execution_count": 74,
   "id": "5eb62249",
   "metadata": {},
   "outputs": [
    {
     "data": {
      "text/plain": [
       "16368"
      ]
     },
     "execution_count": 74,
     "metadata": {},
     "output_type": "execute_result"
    }
   ],
   "source": [
    "len(other_features_df)"
   ]
  },
  {
   "cell_type": "code",
   "execution_count": 75,
   "id": "2cb44264",
   "metadata": {},
   "outputs": [
    {
     "data": {
      "text/plain": [
       "14393"
      ]
     },
     "execution_count": 75,
     "metadata": {},
     "output_type": "execute_result"
    }
   ],
   "source": [
    "# I believe the number of null values are rather small compared to the total data.\n",
    "# Thus, we will drop them.\n",
    "other_features_df = other_features_df.dropna()\n",
    "len(other_features_df)"
   ]
  },
  {
   "cell_type": "code",
   "execution_count": 76,
   "id": "18aa876d",
   "metadata": {},
   "outputs": [
    {
     "data": {
      "text/html": [
       "<div>\n",
       "<style scoped>\n",
       "    .dataframe tbody tr th:only-of-type {\n",
       "        vertical-align: middle;\n",
       "    }\n",
       "\n",
       "    .dataframe tbody tr th {\n",
       "        vertical-align: top;\n",
       "    }\n",
       "\n",
       "    .dataframe thead th {\n",
       "        text-align: right;\n",
       "    }\n",
       "</style>\n",
       "<table border=\"1\" class=\"dataframe\">\n",
       "  <thead>\n",
       "    <tr style=\"text-align: right;\">\n",
       "      <th></th>\n",
       "      <th>episodes</th>\n",
       "      <th>ranked</th>\n",
       "      <th>score</th>\n",
       "    </tr>\n",
       "  </thead>\n",
       "  <tbody>\n",
       "    <tr>\n",
       "      <th>13151</th>\n",
       "      <td>16.0</td>\n",
       "      <td>14467.0</td>\n",
       "      <td>7.05</td>\n",
       "    </tr>\n",
       "    <tr>\n",
       "      <th>8393</th>\n",
       "      <td>1.0</td>\n",
       "      <td>10179.0</td>\n",
       "      <td>5.40</td>\n",
       "    </tr>\n",
       "    <tr>\n",
       "      <th>13029</th>\n",
       "      <td>26.0</td>\n",
       "      <td>6796.0</td>\n",
       "      <td>6.36</td>\n",
       "    </tr>\n",
       "    <tr>\n",
       "      <th>11092</th>\n",
       "      <td>33.0</td>\n",
       "      <td>12931.0</td>\n",
       "      <td>5.79</td>\n",
       "    </tr>\n",
       "    <tr>\n",
       "      <th>13716</th>\n",
       "      <td>52.0</td>\n",
       "      <td>6501.0</td>\n",
       "      <td>6.41</td>\n",
       "    </tr>\n",
       "  </tbody>\n",
       "</table>\n",
       "</div>"
      ],
      "text/plain": [
       "       episodes   ranked  score\n",
       "13151      16.0  14467.0   7.05\n",
       "8393        1.0  10179.0   5.40\n",
       "13029      26.0   6796.0   6.36\n",
       "11092      33.0  12931.0   5.79\n",
       "13716      52.0   6501.0   6.41"
      ]
     },
     "execution_count": 76,
     "metadata": {},
     "output_type": "execute_result"
    }
   ],
   "source": [
    "X_f = other_features_df.drop('members', axis = 1)\n",
    "y_f = other_features_df['members']\n",
    "X_f_train, X_f_test, y_f_train, y_f_test = train_test_split(X_f, y_f, test_size = 0.3, random_state = 42)\n",
    "X_f_train.head()"
   ]
  },
  {
   "cell_type": "code",
   "execution_count": 77,
   "id": "5aa6f8a2",
   "metadata": {},
   "outputs": [
    {
     "data": {
      "text/plain": [
       "0.003473830477072719"
      ]
     },
     "execution_count": 77,
     "metadata": {},
     "output_type": "execute_result"
    }
   ],
   "source": [
    "# Since our previous accuracies obtained from our previous methods are very small,\n",
    "# I am going to assume that I may get a similarly small accuracy from this.\n",
    "# Thus, I am not going to worry about overfitting, and will use a Decision Tree.\n",
    "from sklearn.tree import DecisionTreeClassifier\n",
    "\n",
    "tree = DecisionTreeClassifier(random_state = 42).fit(X_f_train, y_f_train)\n",
    "test_acc5 = tree.score(X_f_test, y_f_test)\n",
    "test_acc5"
   ]
  },
  {
   "cell_type": "markdown",
   "id": "46a2f2d6",
   "metadata": {},
   "source": [
    "As expected, it's super low. In fact, this is the lowest one.\n",
    "\n",
    "Let's try some GridSearching then."
   ]
  },
  {
   "cell_type": "code",
   "execution_count": 78,
   "id": "36276e9b",
   "metadata": {},
   "outputs": [
    {
     "data": {
      "text/plain": [
       "\"\\nparams4 = {'max_depth': [2, 5, 10, 50],\\n           'min_samples_split': [2, 5, 10], \\n           'min_samples_leaf': [1, 3, 6, 10]}\\n\\ngrid_tree = GridSearchCV(\\n    estimator = DecisionTreeClassifier(random_state = 42),\\n    param_grid = params4\\n).fit(X_f_train, y_f_train)\\n\\ngrid_tree.score(X_f_test, y_f_test)\\n\""
      ]
     },
     "execution_count": 78,
     "metadata": {},
     "output_type": "execute_result"
    }
   ],
   "source": [
    "# Didn't take that long compared to the previous ones but still took some time.\n",
    "\"\"\"\n",
    "params4 = {'max_depth': [2, 5, 10, 50],\n",
    "           'min_samples_split': [2, 5, 10], \n",
    "           'min_samples_leaf': [1, 3, 6, 10]}\n",
    "\n",
    "grid_tree = GridSearchCV(\n",
    "    estimator = DecisionTreeClassifier(random_state = 42),\n",
    "    param_grid = params4\n",
    ").fit(X_f_train, y_f_train)\n",
    "\n",
    "grid_tree.score(X_f_test, y_f_test)\n",
    "\"\"\""
   ]
  },
  {
   "cell_type": "code",
   "execution_count": 79,
   "id": "ed22d1ad",
   "metadata": {},
   "outputs": [],
   "source": [
    "# grid_tree.best_params_"
   ]
  },
  {
   "cell_type": "code",
   "execution_count": 80,
   "id": "84a46e75",
   "metadata": {},
   "outputs": [],
   "source": [
    "# Received best parameters\n",
    "max_depth = 5\n",
    "min_samples_leaf = 3\n",
    "min_samples_split = 2"
   ]
  },
  {
   "cell_type": "code",
   "execution_count": 81,
   "id": "bfc8be82",
   "metadata": {},
   "outputs": [
    {
     "data": {
      "text/plain": [
       "0.0037054191755442334"
      ]
     },
     "execution_count": 81,
     "metadata": {},
     "output_type": "execute_result"
    }
   ],
   "source": [
    "tree2 = DecisionTreeClassifier(max_depth = max_depth, \n",
    "                               min_samples_leaf = min_samples_leaf, \n",
    "                               min_samples_split = min_samples_split,\n",
    "                               random_state = 42).fit(X_f_train, y_f_train)\n",
    "tree2.score(X_f_test, y_f_test)"
   ]
  },
  {
   "cell_type": "markdown",
   "id": "7dd43ef0",
   "metadata": {},
   "source": [
    "# First Conclusion & What's Next\n",
    "\n",
    "As you can see in all three methodologies, all of them have very low accuracy. The highest one is the NLP on the column 'synopsis' yet its accuracy is only slightly higher than a quarter.\n",
    "\n",
    "Here's a visualization expressing such low accuracy."
   ]
  },
  {
   "cell_type": "code",
   "execution_count": 82,
   "id": "85764c51",
   "metadata": {},
   "outputs": [],
   "source": [
    "import seaborn as sns"
   ]
  },
  {
   "cell_type": "code",
   "execution_count": 83,
   "id": "f58aca14",
   "metadata": {},
   "outputs": [
    {
     "data": {
      "text/plain": [
       "<Axes: xlabel='Highest Accuracy', ylabel='Model'>"
      ]
     },
     "execution_count": 83,
     "metadata": {},
     "output_type": "execute_result"
    },
    {
     "data": {
      "image/png": "[encoded data removed]",
      "text/plain": [
       "<Figure size 640x480 with 1 Axes>"
      ]
     },
     "metadata": {},
     "output_type": "display_data"
    }
   ],
   "source": [
    "performance_df = pd.DataFrame({\"Model\": [\"BoW Random Forest (Synopsis)\", \n",
    "                                         \"BoW Random Forest (Genre)\", \n",
    "                                         \"Decision Tree (Other Numeric Features)\"],\n",
    "                               \"Highest Accuracy\": [test_acc, test_acc4, test_acc5]})\n",
    "sns.barplot(performance_df, x = \"Highest Accuracy\", y = \"Model\")"
   ]
  },
  {
   "cell_type": "markdown",
   "id": "402729d6",
   "metadata": {},
   "source": [
    "Thinking about it rationally, it would make sense on why the accuracies are so low.                                        \n",
    "After all, the anime's synopsis and assigned genres shouldn't matter on its quality.                                       \n",
    "I was rather surprised that the anime's number of episodes, ranking, and score are even more useless on predicting the number of members it would gain.                                                                                          \n",
    "In the end, what matters significantly more is how it's written, played, and expressed towards the audiences as well as what impact it can leave to the audiences. Visual quality may also matter.                                                 \n",
    "Unfortunately, the initial DataFrame I've used doesn't have such information.                                              \n",
    "\n",
    "Hence, I am left with two options:\n",
    "1. Continue researching on the same research question using different models, fine-tune more parameters, and/or implement other unused CSVs that I also have.\n",
    "2. Change my research question into something more feasible to answer/predict with the current data I possess like instead of predicting the anime's popularity, perhaps I should predict its score as the score is also worth noting on the anime's quality.\n",
    "\n",
    "For now, I am leaning a little towards the 2nd option."
   ]
  }
 ],
 "metadata": {
  "kernelspec": {
   "display_name": "Python 3 (ipykernel)",
   "language": "python",
   "name": "python3"
  },
  "language_info": {
   "codemirror_mode": {
    "name": "ipython",
    "version": 3
   },
   "file_extension": ".py",
   "mimetype": "text/x-python",
   "name": "python",
   "nbconvert_exporter": "python",
   "pygments_lexer": "ipython3",
   "version": "3.10.9"
  }
 },
 "nbformat": 4,
 "nbformat_minor": 5
}
